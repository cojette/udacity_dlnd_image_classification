{
 "cells": [
  {
   "cell_type": "markdown",
   "metadata": {
    "collapsed": true
   },
   "source": [
    "# Image Classification\n",
    "In this project, you'll classify images from the [CIFAR-10 dataset](https://www.cs.toronto.edu/~kriz/cifar.html).  The dataset consists of airplanes, dogs, cats, and other objects. You'll preprocess the images, then train a convolutional neural network on all the samples. The images need to be normalized and the labels need to be one-hot encoded.  You'll get to apply what you learned and build a convolutional, max pooling, dropout, and fully connected layers.  At the end, you'll get to see your neural network's predictions on the sample images.\n",
    "## Get the Data\n",
    "Run the following cell to download the [CIFAR-10 dataset for python](https://www.cs.toronto.edu/~kriz/cifar-10-python.tar.gz)."
   ]
  },
  {
   "cell_type": "code",
   "execution_count": 2,
   "metadata": {
    "collapsed": false
   },
   "outputs": [
    {
     "name": "stdout",
     "output_type": "stream",
     "text": [
      "All files found!\n"
     ]
    }
   ],
   "source": [
    "\"\"\"\n",
    "DON'T MODIFY ANYTHING IN THIS CELL THAT IS BELOW THIS LINE\n",
    "\"\"\"\n",
    "from urllib.request import urlretrieve\n",
    "from os.path import isfile, isdir\n",
    "from tqdm import tqdm\n",
    "import problem_unittests as tests\n",
    "import tarfile\n",
    "\n",
    "cifar10_dataset_folder_path = 'cifar-10-batches-py'\n",
    "\n",
    "class DLProgress(tqdm):\n",
    "    last_block = 0\n",
    "\n",
    "    def hook(self, block_num=1, block_size=1, total_size=None):\n",
    "        self.total = total_size\n",
    "        self.update((block_num - self.last_block) * block_size)\n",
    "        self.last_block = block_num\n",
    "\n",
    "if not isfile('cifar-10-python.tar.gz'):\n",
    "    with DLProgress(unit='B', unit_scale=True, miniters=1, desc='CIFAR-10 Dataset') as pbar:\n",
    "        urlretrieve(\n",
    "            'https://www.cs.toronto.edu/~kriz/cifar-10-python.tar.gz',\n",
    "            'cifar-10-python.tar.gz',\n",
    "            pbar.hook)\n",
    "\n",
    "if not isdir(cifar10_dataset_folder_path):\n",
    "    with tarfile.open('cifar-10-python.tar.gz') as tar:\n",
    "        tar.extractall()\n",
    "        tar.close()\n",
    "\n",
    "\n",
    "tests.test_folder_path(cifar10_dataset_folder_path)"
   ]
  },
  {
   "cell_type": "markdown",
   "metadata": {},
   "source": [
    "## Explore the Data\n",
    "The dataset is broken into batches to prevent your machine from running out of memory.  The CIFAR-10 dataset consists of 5 batches, named `data_batch_1`, `data_batch_2`, etc.. Each batch contains the labels and images that are one of the following:\n",
    "* airplane\n",
    "* automobile\n",
    "* bird\n",
    "* cat\n",
    "* deer\n",
    "* dog\n",
    "* frog\n",
    "* horse\n",
    "* ship\n",
    "* truck\n",
    "\n",
    "Understanding a dataset is part of making predictions on the data.  Play around with the code cell below by changing the `batch_id` and `sample_id`. The `batch_id` is the id for a batch (1-5). The `sample_id` is the id for a image and label pair in the batch.\n",
    "\n",
    "Ask yourself \"What are all possible labels?\", \"What is the range of values for the image data?\", \"Are the labels in order or random?\".  Answers to questions like these will help you preprocess the data and end up with better predictions."
   ]
  },
  {
   "cell_type": "code",
   "execution_count": 3,
   "metadata": {
    "collapsed": false
   },
   "outputs": [
    {
     "name": "stdout",
     "output_type": "stream",
     "text": [
      "\n",
      "Stats of batch 1:\n",
      "Samples: 10000\n",
      "Label Counts: {0: 1005, 1: 974, 2: 1032, 3: 1016, 4: 999, 5: 937, 6: 1030, 7: 1001, 8: 1025, 9: 981}\n",
      "First 20 Labels: [6, 9, 9, 4, 1, 1, 2, 7, 8, 3, 4, 7, 7, 2, 9, 9, 9, 3, 2, 6]\n",
      "\n",
      "Example of Image 5:\n",
      "Image - Min Value: 0 Max Value: 252\n",
      "Image - Shape: (32, 32, 3)\n",
      "Label - Label Id: 1 Name: automobile\n"
     ]
    },
    {
     "data": {
      "image/png": "[encoded data removed]",
      "text/plain": [
       "<matplotlib.figure.Figure at 0x11c4a9630>"
      ]
     },
     "metadata": {
      "image/png": {
       "height": 250,
       "width": 253
      }
     },
     "output_type": "display_data"
    }
   ],
   "source": [
    "%matplotlib inline\n",
    "%config InlineBackend.figure_format = 'retina'\n",
    "\n",
    "import helper\n",
    "import numpy as np\n",
    "\n",
    "# Explore the dataset\n",
    "batch_id = 1\n",
    "sample_id = 5\n",
    "helper.display_stats(cifar10_dataset_folder_path, batch_id, sample_id)"
   ]
  },
  {
   "cell_type": "markdown",
   "metadata": {},
   "source": [
    "## Implement Preprocess Functions\n",
    "### Normalize\n",
    "In the cell below, implement the `normalize` function to take in image data, `x`, and return it as a normalized Numpy array. The values should be in the range of 0 to 1, inclusive.  The return object should be the same shape as `x`."
   ]
  },
  {
   "cell_type": "code",
   "execution_count": 79,
   "metadata": {
    "collapsed": false
   },
   "outputs": [
    {
     "name": "stdout",
     "output_type": "stream",
     "text": [
      "Tests Passed\n"
     ]
    }
   ],
   "source": [
    "def normalize(x):\n",
    "    \"\"\"\n",
    "    Normalize a list of sample image data in the range of 0 to 1\n",
    "    : x: List of image data.  The image shape is (32, 32, 3)\n",
    "    : return: Numpy array of normalize data\n",
    "    \"\"\"\n",
    "    # TODO: Implement Function\n",
    "    return x/255\n",
    "\n",
    "\n",
    "\"\"\"\n",
    "DON'T MODIFY ANYTHING IN THIS CELL THAT IS BELOW THIS LINE\n",
    "\"\"\"\n",
    "tests.test_normalize(normalize)"
   ]
  },
  {
   "cell_type": "markdown",
   "metadata": {},
   "source": [
    "### One-hot encode\n",
    "Just like the previous code cell, you'll be implementing a function for preprocessing.  This time, you'll implement the `one_hot_encode` function. The input, `x`, are a list of labels.  Implement the function to return the list of labels as One-Hot encoded Numpy array.  The possible values for labels are 0 to 9. The one-hot encoding function should return the same encoding for each value between each call to `one_hot_encode`.  Make sure to save the map of encodings outside the function.\n",
    "\n",
    "Hint: Don't reinvent the wheel."
   ]
  },
  {
   "cell_type": "code",
   "execution_count": 80,
   "metadata": {
    "collapsed": false
   },
   "outputs": [
    {
     "name": "stdout",
     "output_type": "stream",
     "text": [
      "Tests Passed\n"
     ]
    }
   ],
   "source": [
    "def one_hot_encode(x):\n",
    "    \"\"\"\n",
    "    One hot encode a list of sample labels. Return a one-hot encoded vector for each label.\n",
    "    : x: List of sample Labels\n",
    "    : return: Numpy array of one-hot encoded labels\n",
    "    \"\"\"\n",
    "    # TODO: Implement Function\n",
    "    y = np.zeros((len(x), 10))\n",
    "    for i in range(len(x)):\n",
    "        y[i,x[i]] = 1\n",
    "        \n",
    "    return y\n",
    "\n",
    "\n",
    "\"\"\"\n",
    "DON'T MODIFY ANYTHING IN THIS CELL THAT IS BELOW THIS LINE\n",
    "\"\"\"\n",
    "tests.test_one_hot_encode(one_hot_encode)"
   ]
  },
  {
   "cell_type": "markdown",
   "metadata": {},
   "source": [
    "### Randomize Data\n",
    "As you saw from exploring the data above, the order of the samples are randomized.  It doesn't hurt to randomize it again, but you don't need to for this dataset."
   ]
  },
  {
   "cell_type": "markdown",
   "metadata": {},
   "source": [
    "## Preprocess all the data and save it\n",
    "Running the code cell below will preprocess all the CIFAR-10 data and save it to file. The code below also uses 10% of the training data for validation."
   ]
  },
  {
   "cell_type": "code",
   "execution_count": 81,
   "metadata": {
    "collapsed": false
   },
   "outputs": [],
   "source": [
    "\"\"\"\n",
    "DON'T MODIFY ANYTHING IN THIS CELL\n",
    "\"\"\"\n",
    "# Preprocess Training, Validation, and Testing Data\n",
    "helper.preprocess_and_save_data(cifar10_dataset_folder_path, normalize, one_hot_encode)"
   ]
  },
  {
   "cell_type": "markdown",
   "metadata": {},
   "source": [
    "# Check Point\n",
    "This is your first checkpoint.  If you ever decide to come back to this notebook or have to restart the notebook, you can start from here.  The preprocessed data has been saved to disk."
   ]
  },
  {
   "cell_type": "code",
   "execution_count": 82,
   "metadata": {
    "collapsed": true
   },
   "outputs": [],
   "source": [
    "\"\"\"\n",
    "DON'T MODIFY ANYTHING IN THIS CELL\n",
    "\"\"\"\n",
    "import pickle\n",
    "import problem_unittests as tests\n",
    "import helper\n",
    "\n",
    "# Load the Preprocessed Validation data\n",
    "valid_features, valid_labels = pickle.load(open('preprocess_validation.p', mode='rb'))"
   ]
  },
  {
   "cell_type": "markdown",
   "metadata": {},
   "source": [
    "## Build the network\n",
    "For the neural network, you'll build each layer into a function.  Most of the code you've seen has been outside of functions. To test your code more thoroughly, we require that you put each layer in a function.  This allows us to give you better feedback and test for simple mistakes using our unittests before you submit your project.\n",
    "\n",
    ">**Note:** If you're finding it hard to dedicate enough time for this course each week, we've provided a small shortcut to this part of the project. In the next couple of problems, you'll have the option to use classes from the [TensorFlow Layers](https://www.tensorflow.org/api_docs/python/tf/layers) or [TensorFlow Layers (contrib)](https://www.tensorflow.org/api_guides/python/contrib.layers) packages to build each layer, except the layers you build in the \"Convolutional and Max Pooling Layer\" section.  TF Layers is similar to Keras's and TFLearn's abstraction to layers, so it's easy to pickup.\n",
    "\n",
    ">However, if you would like to get the most out of this course, try to solve all the problems _without_ using anything from the TF Layers packages. You **can** still use classes from other packages that happen to have the same name as ones you find in TF Layers! For example, instead of using the TF Layers version of the `conv2d` class, [tf.layers.conv2d](https://www.tensorflow.org/api_docs/python/tf/layers/conv2d), you would want to use the TF Neural Network version of `conv2d`, [tf.nn.conv2d](https://www.tensorflow.org/api_docs/python/tf/nn/conv2d). \n",
    "\n",
    "Let's begin!\n",
    "\n",
    "### Input\n",
    "The neural network needs to read the image data, one-hot encoded labels, and dropout keep probability. Implement the following functions\n",
    "* Implement `neural_net_image_input`\n",
    " * Return a [TF Placeholder](https://www.tensorflow.org/api_docs/python/tf/placeholder)\n",
    " * Set the shape using `image_shape` with batch size set to `None`.\n",
    " * Name the TensorFlow placeholder \"x\" using the TensorFlow `name` parameter in the [TF Placeholder](https://www.tensorflow.org/api_docs/python/tf/placeholder).\n",
    "* Implement `neural_net_label_input`\n",
    " * Return a [TF Placeholder](https://www.tensorflow.org/api_docs/python/tf/placeholder)\n",
    " * Set the shape using `n_classes` with batch size set to `None`.\n",
    " * Name the TensorFlow placeholder \"y\" using the TensorFlow `name` parameter in the [TF Placeholder](https://www.tensorflow.org/api_docs/python/tf/placeholder).\n",
    "* Implement `neural_net_keep_prob_input`\n",
    " * Return a [TF Placeholder](https://www.tensorflow.org/api_docs/python/tf/placeholder) for dropout keep probability.\n",
    " * Name the TensorFlow placeholder \"keep_prob\" using the TensorFlow `name` parameter in the [TF Placeholder](https://www.tensorflow.org/api_docs/python/tf/placeholder).\n",
    "\n",
    "These names will be used at the end of the project to load your saved model.\n",
    "\n",
    "Note: `None` for shapes in TensorFlow allow for a dynamic size."
   ]
  },
  {
   "cell_type": "code",
   "execution_count": 83,
   "metadata": {
    "collapsed": false
   },
   "outputs": [
    {
     "name": "stdout",
     "output_type": "stream",
     "text": [
      "Image Input Tests Passed.\n",
      "Label Input Tests Passed.\n",
      "Keep Prob Tests Passed.\n"
     ]
    }
   ],
   "source": [
    "import tensorflow as tf\n",
    "\n",
    "def neural_net_image_input(image_shape):\n",
    "    \"\"\"\n",
    "    Return a Tensor for a batch of image input\n",
    "    : image_shape: Shape of the images\n",
    "    : return: Tensor for image input.\n",
    "    \"\"\"\n",
    "    # TODO: Implement Function\n",
    "    \n",
    "    image_width, image_height, color_channels = image_shape\n",
    "    x = tf.placeholder( tf.float32, shape=[None, image_width, image_height, color_channels], name='x')\n",
    "\n",
    "    return x\n",
    "\n",
    "\n",
    "\n",
    "def neural_net_label_input(n_classes):\n",
    "    \"\"\"\n",
    "    Return a Tensor for a batch of label input\n",
    "    : n_classes: Number of classes\n",
    "    : return: Tensor for label input.\n",
    "    \"\"\"\n",
    "    # TODO: Implement Function\n",
    "    y = tf.placeholder(tf.float32, shape=[None, n_classes], name='y')\n",
    "    \n",
    "    return y\n",
    "\n",
    "\n",
    "def neural_net_keep_prob_input():\n",
    "    \"\"\"\n",
    "    Return a Tensor for keep probability\n",
    "    : return: Tensor for keep probability.\n",
    "    \"\"\"\n",
    "    # TODO: Implement Function\n",
    "    keep_prob = tf.placeholder(tf.float32, name='keep_prob')\n",
    "    \n",
    "    return keep_prob\n",
    "\n",
    "\n",
    "\"\"\"\n",
    "DON'T MODIFY ANYTHING IN THIS CELL THAT IS BELOW THIS LINE\n",
    "\"\"\"\n",
    "tf.reset_default_graph()\n",
    "tests.test_nn_image_inputs(neural_net_image_input)\n",
    "tests.test_nn_label_inputs(neural_net_label_input)\n",
    "tests.test_nn_keep_prob_inputs(neural_net_keep_prob_input)"
   ]
  },
  {
   "cell_type": "markdown",
   "metadata": {},
   "source": [
    "### Convolution and Max Pooling Layer\n",
    "Convolution layers have a lot of success with images. For this code cell, you should implement the function `conv2d_maxpool` to apply convolution then max pooling:\n",
    "* Create the weight and bias using `conv_ksize`, `conv_num_outputs` and the shape of `x_tensor`.\n",
    "* Apply a convolution to `x_tensor` using weight and `conv_strides`.\n",
    " * We recommend you use same padding, but you're welcome to use any padding.\n",
    "* Add bias\n",
    "* Add a nonlinear activation to the convolution.\n",
    "* Apply Max Pooling using `pool_ksize` and `pool_strides`.\n",
    " * We recommend you use same padding, but you're welcome to use any padding.\n",
    "\n",
    "**Note:** You **can't** use [TensorFlow Layers](https://www.tensorflow.org/api_docs/python/tf/layers) or [TensorFlow Layers (contrib)](https://www.tensorflow.org/api_guides/python/contrib.layers) for **this** layer, but you can still use TensorFlow's [Neural Network](https://www.tensorflow.org/api_docs/python/tf/nn) package. You may still use the shortcut option for all the **other** layers."
   ]
  },
  {
   "cell_type": "code",
   "execution_count": 84,
   "metadata": {
    "collapsed": false
   },
   "outputs": [
    {
     "name": "stdout",
     "output_type": "stream",
     "text": [
      "Tests Passed\n"
     ]
    }
   ],
   "source": [
    "def conv2d_maxpool(x_tensor, conv_num_outputs, conv_ksize, conv_strides, pool_ksize, pool_strides):\n",
    "    \"\"\"\n",
    "    Apply convolution then max pooling to x_tensor\n",
    "    :param x_tensor: TensorFlow Tensor\n",
    "    :param conv_num_outputs: Number of outputs for the convolutional layer\n",
    "    :param conv_ksize: kernal size 2-D Tuple for the convolutional layer\n",
    "    :param conv_strides: Stride 2-D Tuple for convolution\n",
    "    :param pool_ksize: kernal size 2-D Tuple for pool\n",
    "    :param pool_strides: Stride 2-D Tuple for pool\n",
    "    : return: A tensor that represents convolution and max pooling of x_tensor\n",
    "    \"\"\"\n",
    "    # TODO: Implement Function\n",
    "    ## Create the weight and bias using conv_ksize, conv_num_outputs and the shape of x_tensor.\n",
    "    filter_size_width, filter_size_height = conv_ksize\n",
    "    color_channels = x_tensor.shape.as_list()[-1]\n",
    "\n",
    "    weight = tf.Variable(tf.truncated_normal(\n",
    "        [filter_size_width, filter_size_height, color_channels, conv_num_outputs], stddev=0.01)) \n",
    "    bias = tf.Variable(tf.zeros(conv_num_outputs))\n",
    "   \n",
    "    # Apply a convolution to x_tensor using weight and conv_strides.\n",
    "    a, b = conv_strides\n",
    "    full_conv_strides = [1, a, b, 1]\n",
    "    conv_layer = tf.nn.conv2d(x_tensor, weight, strides=full_conv_strides, padding='SAME')\n",
    "    \n",
    "    # Add bias\n",
    "    conv_layer = tf.nn.bias_add(conv_layer, bias)\n",
    "    \n",
    "    # Add a nonlinear activation to the convolution.\n",
    "    conv_layer = tf.nn.relu(conv_layer)\n",
    "    \n",
    "    # Apply Max Pooling using pool_ksize and pool_strides.\n",
    "    a, b = pool_strides\n",
    "    full_pool_strides = [1, a, b, 1]\n",
    "    a, b = pool_ksize\n",
    "    full_pool_ksize = [1, a, b, 1]\n",
    "    conv_pool = tf.nn.max_pool(conv_layer, ksize=full_pool_ksize, strides=full_pool_strides, padding='SAME')\n",
    " \n",
    "    return conv_pool\n",
    " \n",
    "\n",
    "\n",
    "\"\"\"\n",
    "DON'T MODIFY ANYTHING IN THIS CELL THAT IS BELOW THIS LINE\n",
    "\"\"\"\n",
    "tests.test_con_pool(conv2d_maxpool)"
   ]
  },
  {
   "cell_type": "markdown",
   "metadata": {},
   "source": [
    "### Flatten Layer\n",
    "Implement the `flatten` function to change the dimension of `x_tensor` from a 4-D tensor to a 2-D tensor.  The output should be the shape (*Batch Size*, *Flattened Image Size*). Shortcut option: you can use classes from the [TensorFlow Layers](https://www.tensorflow.org/api_docs/python/tf/layers) or [TensorFlow Layers (contrib)](https://www.tensorflow.org/api_guides/python/contrib.layers) packages for this layer. For more of a challenge, only use other TensorFlow packages."
   ]
  },
  {
   "cell_type": "code",
   "execution_count": 85,
   "metadata": {
    "collapsed": false
   },
   "outputs": [
    {
     "name": "stdout",
     "output_type": "stream",
     "text": [
      "Tests Passed\n"
     ]
    }
   ],
   "source": [
    "def flatten(x_tensor):\n",
    "    \"\"\"\n",
    "    Flatten x_tensor to (Batch Size, Flattened Image Size)\n",
    "    : x_tensor: A tensor of size (Batch Size, ...), where ... are the image dimensions.\n",
    "    : return: A tensor of size (Batch Size, Flattened Image Size).\n",
    "    \"\"\"\n",
    "    # TODO: Implement Function\n",
    "    origin_dim = x_tensor.shape.as_list()\n",
    "\n",
    "    flat_dim = np.prod(origin_dim[1:])\n",
    "    flat_shape = tf.reshape(x_tensor, [-1, flat_dim])\n",
    "    \n",
    "    return flat_shape\n",
    "\n",
    "\n",
    "\"\"\"\n",
    "DON'T MODIFY ANYTHING IN THIS CELL THAT IS BELOW THIS LINE\n",
    "\"\"\"\n",
    "tests.test_flatten(flatten)"
   ]
  },
  {
   "cell_type": "markdown",
   "metadata": {},
   "source": [
    "### Fully-Connected Layer\n",
    "Implement the `fully_conn` function to apply a fully connected layer to `x_tensor` with the shape (*Batch Size*, *num_outputs*). Shortcut option: you can use classes from the [TensorFlow Layers](https://www.tensorflow.org/api_docs/python/tf/layers) or [TensorFlow Layers (contrib)](https://www.tensorflow.org/api_guides/python/contrib.layers) packages for this layer. For more of a challenge, only use other TensorFlow packages."
   ]
  },
  {
   "cell_type": "code",
   "execution_count": 86,
   "metadata": {
    "collapsed": false
   },
   "outputs": [
    {
     "name": "stdout",
     "output_type": "stream",
     "text": [
      "Tests Passed\n"
     ]
    }
   ],
   "source": [
    "def fully_conn(x_tensor, num_outputs):\n",
    "    \"\"\"\n",
    "    Apply a fully connected layer to x_tensor using weight and bias\n",
    "    : x_tensor: A 2-D tensor where the first dimension is batch size.\n",
    "    : num_outputs: The number of output that the new tensor should be.\n",
    "    : return: A 2-D tensor where the second dimension is num_outputs.\n",
    "    \"\"\"\n",
    "    # TODO: Implement Function\n",
    "    \n",
    "    origin_dim = x_tensor.get_shape().as_list()\n",
    "    weight = tf.Variable(tf.truncated_normal([origin_dim[-1] ,num_outputs], stddev=0.01))\n",
    "    bias = tf.Variable(tf.zeros(num_outputs))\n",
    "    fully_tensor =  tf.nn.relu(tf.add(tf.matmul(x_tensor,weight), bias))\n",
    "    \n",
    "    return fully_tensor\n",
    "\n",
    "\n",
    "\"\"\"\n",
    "DON'T MODIFY ANYTHING IN THIS CELL THAT IS BELOW THIS LINE\n",
    "\"\"\"\n",
    "tests.test_fully_conn(fully_conn)"
   ]
  },
  {
   "cell_type": "markdown",
   "metadata": {},
   "source": [
    "### Output Layer\n",
    "Implement the `output` function to apply a fully connected layer to `x_tensor` with the shape (*Batch Size*, *num_outputs*). Shortcut option: you can use classes from the [TensorFlow Layers](https://www.tensorflow.org/api_docs/python/tf/layers) or [TensorFlow Layers (contrib)](https://www.tensorflow.org/api_guides/python/contrib.layers) packages for this layer. For more of a challenge, only use other TensorFlow packages.\n",
    "\n",
    "**Note:** Activation, softmax, or cross entropy should **not** be applied to this."
   ]
  },
  {
   "cell_type": "code",
   "execution_count": 87,
   "metadata": {
    "collapsed": false
   },
   "outputs": [
    {
     "name": "stdout",
     "output_type": "stream",
     "text": [
      "Tests Passed\n"
     ]
    }
   ],
   "source": [
    "def output(x_tensor, num_outputs):\n",
    "    \"\"\"\n",
    "    Apply a output layer to x_tensor using weight and bias\n",
    "    : x_tensor: A 2-D tensor where the first dimension is batch size.\n",
    "    : num_outputs: The number of output that the new tensor should be.\n",
    "    : return: A 2-D tensor where the second dimension is num_outputs.\n",
    "    \"\"\"\n",
    "    # TODO: Implement Function\n",
    "    origin_dim = x_tensor.get_shape().as_list()\n",
    "    weight = tf.Variable(tf.truncated_normal([origin_dim[-1] ,num_outputs], stddev=0.01))\n",
    "    bias = tf.Variable(tf.zeros(num_outputs))\n",
    "    output = tf.add(tf.matmul(x_tensor,weight), bias)\n",
    "    \n",
    "    return output\n",
    "\n",
    "\n",
    "\"\"\"\n",
    "DON'T MODIFY ANYTHING IN THIS CELL THAT IS BELOW THIS LINE\n",
    "\"\"\"\n",
    "tests.test_output(output)"
   ]
  },
  {
   "cell_type": "markdown",
   "metadata": {},
   "source": [
    "### Create Convolutional Model\n",
    "Implement the function `conv_net` to create a convolutional neural network model. The function takes in a batch of images, `x`, and outputs logits.  Use the layers you created above to create this model:\n",
    "\n",
    "* Apply 1, 2, or 3 Convolution and Max Pool layers\n",
    "* Apply a Flatten Layer\n",
    "* Apply 1, 2, or 3 Fully Connected Layers\n",
    "* Apply an Output Layer\n",
    "* Return the output\n",
    "* Apply [TensorFlow's Dropout](https://www.tensorflow.org/api_docs/python/tf/nn/dropout) to one or more layers in the model using `keep_prob`. "
   ]
  },
  {
   "cell_type": "code",
   "execution_count": 88,
   "metadata": {
    "collapsed": false
   },
   "outputs": [
    {
     "name": "stdout",
     "output_type": "stream",
     "text": [
      "Neural Network Built!\n"
     ]
    }
   ],
   "source": [
    "def conv_net(x, keep_prob):\n",
    "    \"\"\"\n",
    "    Create a convolutional neural network model\n",
    "    : x: Placeholder tensor that holds image data.\n",
    "    : keep_prob: Placeholder tensor that hold dropout keep probability.\n",
    "    : return: Tensor that represents logits\n",
    "    \"\"\"\n",
    "    # TODO: Apply 1, 2, or 3 Convolution and Max Pool layers\n",
    "    #    Play around with different number of outputs, kernel size and stride\n",
    "    # Function Definition from Above:\n",
    "    #    conv2d_maxpool(x_tensor, conv_num_outputs, conv_ksize, conv_strides, pool_ksize, pool_strides)\n",
    "    conv_num_outputs = 16\n",
    "    conv_ksize = (4,4)\n",
    "    conv_strides = (1,1)\n",
    "    pool_ksize = (4,4)\n",
    "    pool_strides = (1,1)\n",
    "    \n",
    "    model = conv2d_maxpool(x, conv_num_outputs, conv_ksize, conv_strides, pool_ksize, pool_strides)\n",
    "    model = tf.nn.dropout(model, keep_prob)\n",
    "    # TODO: Apply a Flatten Layer\n",
    "    # Function Definition from Above:\n",
    "    #   flatten(x_tensor)\n",
    "    model = flatten(model)\n",
    "\n",
    "    # TODO: Apply 1, 2, or 3 Fully Connected Layers\n",
    "    #    Play around with different number of outputs\n",
    "    # Function Definition from Above:\n",
    "    #   fully_conn(x_tensor, num_outputs)\n",
    "    model = fully_conn(model,100)\n",
    "    model = tf.nn.dropout(model, keep_prob)\n",
    "    ##model = tf.nn.dropout(model, keep_prob)\n",
    "    # TODO: Apply an Output Layer\n",
    "    #    Set this to the number of classes\n",
    "    # Function Definition from Above:\n",
    "    #   output(x_tensor, num_outputs)\n",
    "    model = output(model,10)\n",
    "    \n",
    "    # TODO: return output\n",
    "    return model\n",
    "\n",
    "\n",
    "\"\"\"\n",
    "DON'T MODIFY ANYTHING IN THIS CELL THAT IS BELOW THIS LINE\n",
    "\"\"\"\n",
    "\n",
    "##############################\n",
    "## Build the Neural Network ##\n",
    "##############################\n",
    "\n",
    "# Remove previous weights, bias, inputs, etc..\n",
    "tf.reset_default_graph()\n",
    "\n",
    "# Inputs\n",
    "x = neural_net_image_input((32, 32, 3))\n",
    "y = neural_net_label_input(10)\n",
    "keep_prob = neural_net_keep_prob_input()\n",
    "\n",
    "# Model\n",
    "logits = conv_net(x, keep_prob)\n",
    "\n",
    "# Name logits Tensor, so that is can be loaded from disk after training\n",
    "logits = tf.identity(logits, name='logits')\n",
    "\n",
    "# Loss and Optimizer\n",
    "cost = tf.reduce_mean(tf.nn.softmax_cross_entropy_with_logits(logits=logits, labels=y))\n",
    "optimizer = tf.train.AdamOptimizer().minimize(cost)\n",
    "\n",
    "# Accuracy\n",
    "correct_pred = tf.equal(tf.argmax(logits, 1), tf.argmax(y, 1))\n",
    "accuracy = tf.reduce_mean(tf.cast(correct_pred, tf.float32), name='accuracy')\n",
    "\n",
    "tests.test_conv_net(conv_net)"
   ]
  },
  {
   "cell_type": "markdown",
   "metadata": {},
   "source": [
    "## Train the Neural Network\n",
    "### Single Optimization\n",
    "Implement the function `train_neural_network` to do a single optimization.  The optimization should use `optimizer` to optimize in `session` with a `feed_dict` of the following:\n",
    "* `x` for image input\n",
    "* `y` for labels\n",
    "* `keep_prob` for keep probability for dropout\n",
    "\n",
    "This function will be called for each batch, so `tf.global_variables_initializer()` has already been called.\n",
    "\n",
    "Note: Nothing needs to be returned. This function is only optimizing the neural network."
   ]
  },
  {
   "cell_type": "code",
   "execution_count": 89,
   "metadata": {
    "collapsed": false
   },
   "outputs": [
    {
     "name": "stdout",
     "output_type": "stream",
     "text": [
      "Tests Passed\n"
     ]
    }
   ],
   "source": [
    "def train_neural_network(session, optimizer, keep_probability, feature_batch, label_batch):\n",
    "    \"\"\"\n",
    "    Optimize the session on a batch of images and labels\n",
    "    : session: Current TensorFlow session\n",
    "    : optimizer: TensorFlow optimizer function\n",
    "    : keep_probability: keep probability\n",
    "    : feature_batch: Batch of Numpy image data\n",
    "    : label_batch: Batch of Numpy label data\n",
    "    \"\"\"\n",
    "    # TODO: Implement Function\n",
    "    session.run(optimizer, feed_dict={x:feature_batch, y:label_batch, keep_prob:keep_probability})\n",
    "\n",
    "\n",
    "\n",
    "\"\"\"\n",
    "DON'T MODIFY ANYTHING IN THIS CELL THAT IS BELOW THIS LINE\n",
    "\"\"\"\n",
    "tests.test_train_nn(train_neural_network)"
   ]
  },
  {
   "cell_type": "markdown",
   "metadata": {},
   "source": [
    "### Show Stats\n",
    "Implement the function `print_stats` to print loss and validation accuracy.  Use the global variables `valid_features` and `valid_labels` to calculate validation accuracy.  Use a keep probability of `1.0` to calculate the loss and validation accuracy."
   ]
  },
  {
   "cell_type": "code",
   "execution_count": 90,
   "metadata": {
    "collapsed": false
   },
   "outputs": [],
   "source": [
    "def print_stats(session, feature_batch, label_batch, cost, accuracy):\n",
    "    \"\"\"\n",
    "    Print information about loss and validation accuracy\n",
    "    : session: Current TensorFlow session\n",
    "    : feature_batch: Batch of Numpy image data\n",
    "    : label_batch: Batch of Numpy label data\n",
    "    : cost: TensorFlow cost function\n",
    "    : accuracy: TensorFlow accuracy function\n",
    "    \"\"\"\n",
    "    # TODO: Implement Function\n",
    "    loss = sess.run(cost, feed_dict={x: valid_features, y: valid_labels, keep_prob: 1.0})\n",
    "    validation_accuracy = sess.run(accuracy, feed_dict={x: valid_features, y: valid_labels, keep_prob: 1.0})\n",
    "\n",
    "    print(\"loss: {}, validation_accuracy: {}\".format(loss, validation_accuracy))"
   ]
  },
  {
   "cell_type": "markdown",
   "metadata": {},
   "source": [
    "### Hyperparameters\n",
    "Tune the following parameters:\n",
    "* Set `epochs` to the number of iterations until the network stops learning or start overfitting\n",
    "* Set `batch_size` to the highest number that your machine has memory for.  Most people set them to common sizes of memory:\n",
    " * 64\n",
    " * 128\n",
    " * 256\n",
    " * ...\n",
    "* Set `keep_probability` to the probability of keeping a node using dropout"
   ]
  },
  {
   "cell_type": "code",
   "execution_count": 91,
   "metadata": {
    "collapsed": true
   },
   "outputs": [],
   "source": [
    "# TODO: Tune Parameters\n",
    "epochs = 50\n",
    "batch_size = 128\n",
    "keep_probability = 0.3"
   ]
  },
  {
   "cell_type": "markdown",
   "metadata": {},
   "source": [
    "### Train on a Single CIFAR-10 Batch\n",
    "Instead of training the neural network on all the CIFAR-10 batches of data, let's use a single batch. This should save time while you iterate on the model to get a better accuracy.  Once the final validation accuracy is 50% or greater, run the model on all the data in the next section."
   ]
  },
  {
   "cell_type": "code",
   "execution_count": 92,
   "metadata": {
    "collapsed": false
   },
   "outputs": [
    {
     "name": "stdout",
     "output_type": "stream",
     "text": [
      "Checking the Training on a Single Batch...\n",
      "Epoch  1, CIFAR-10 Batch 1:  loss: 2.0358874797821045, validation_accuracy: 0.2734000086784363\n",
      "Epoch  2, CIFAR-10 Batch 1:  loss: 1.788594365119934, validation_accuracy: 0.3635999858379364\n",
      "Epoch  3, CIFAR-10 Batch 1:  loss: 1.690826177597046, validation_accuracy: 0.41260001063346863\n",
      "Epoch  4, CIFAR-10 Batch 1:  loss: 1.618273138999939, validation_accuracy: 0.4359999895095825\n",
      "Epoch  5, CIFAR-10 Batch 1:  loss: 1.5605039596557617, validation_accuracy: 0.44839999079704285\n",
      "Epoch  6, CIFAR-10 Batch 1:  loss: 1.5398497581481934, validation_accuracy: 0.45980000495910645\n",
      "Epoch  7, CIFAR-10 Batch 1:  loss: 1.530049443244934, validation_accuracy: 0.46160000562667847\n",
      "Epoch  8, CIFAR-10 Batch 1:  loss: 1.4922823905944824, validation_accuracy: 0.46459999680519104\n",
      "Epoch  9, CIFAR-10 Batch 1:  loss: 1.491852879524231, validation_accuracy: 0.4643999934196472\n",
      "Epoch 10, CIFAR-10 Batch 1:  loss: 1.447033166885376, validation_accuracy: 0.47859999537467957\n",
      "Epoch 11, CIFAR-10 Batch 1:  loss: 1.4493952989578247, validation_accuracy: 0.48339998722076416\n",
      "Epoch 12, CIFAR-10 Batch 1:  loss: 1.430202603340149, validation_accuracy: 0.4896000027656555\n",
      "Epoch 13, CIFAR-10 Batch 1:  loss: 1.430253028869629, validation_accuracy: 0.49000000953674316\n",
      "Epoch 14, CIFAR-10 Batch 1:  loss: 1.4311373233795166, validation_accuracy: 0.4918000102043152\n",
      "Epoch 15, CIFAR-10 Batch 1:  loss: 1.432745099067688, validation_accuracy: 0.4860000014305115\n",
      "Epoch 16, CIFAR-10 Batch 1:  loss: 1.398890733718872, validation_accuracy: 0.5016000270843506\n",
      "Epoch 17, CIFAR-10 Batch 1:  loss: 1.399057388305664, validation_accuracy: 0.5027999877929688\n",
      "Epoch 18, CIFAR-10 Batch 1:  loss: 1.3847770690917969, validation_accuracy: 0.5059999823570251\n",
      "Epoch 19, CIFAR-10 Batch 1:  loss: 1.4099076986312866, validation_accuracy: 0.49160000681877136\n",
      "Epoch 20, CIFAR-10 Batch 1:  loss: 1.407970666885376, validation_accuracy: 0.4984000027179718\n",
      "Epoch 21, CIFAR-10 Batch 1:  loss: 1.3722953796386719, validation_accuracy: 0.5138000249862671\n",
      "Epoch 22, CIFAR-10 Batch 1:  loss: 1.398764967918396, validation_accuracy: 0.5026000142097473\n",
      "Epoch 23, CIFAR-10 Batch 1:  loss: 1.363366961479187, validation_accuracy: 0.5198000073432922\n",
      "Epoch 24, CIFAR-10 Batch 1:  loss: 1.3608580827713013, validation_accuracy: 0.5170000195503235\n",
      "Epoch 25, CIFAR-10 Batch 1:  loss: 1.3762201070785522, validation_accuracy: 0.508400022983551\n",
      "Epoch 26, CIFAR-10 Batch 1:  loss: 1.3508161306381226, validation_accuracy: 0.5206000208854675\n",
      "Epoch 27, CIFAR-10 Batch 1:  loss: 1.3417257070541382, validation_accuracy: 0.5267999768257141\n",
      "Epoch 28, CIFAR-10 Batch 1:  loss: 1.3658112287521362, validation_accuracy: 0.5192000269889832\n",
      "Epoch 29, CIFAR-10 Batch 1:  loss: 1.351550817489624, validation_accuracy: 0.5238000154495239\n",
      "Epoch 30, CIFAR-10 Batch 1:  loss: 1.3390984535217285, validation_accuracy: 0.5303999781608582\n",
      "Epoch 31, CIFAR-10 Batch 1:  loss: 1.3397138118743896, validation_accuracy: 0.5224000215530396\n",
      "Epoch 32, CIFAR-10 Batch 1:  loss: 1.3460410833358765, validation_accuracy: 0.5248000025749207\n",
      "Epoch 33, CIFAR-10 Batch 1:  loss: 1.3279094696044922, validation_accuracy: 0.5281999707221985\n",
      "Epoch 34, CIFAR-10 Batch 1:  loss: 1.3383240699768066, validation_accuracy: 0.5249999761581421\n",
      "Epoch 35, CIFAR-10 Batch 1:  loss: 1.3550162315368652, validation_accuracy: 0.519599974155426\n",
      "Epoch 36, CIFAR-10 Batch 1:  loss: 1.3338558673858643, validation_accuracy: 0.5296000242233276\n",
      "Epoch 37, CIFAR-10 Batch 1:  loss: 1.3320201635360718, validation_accuracy: 0.5281999707221985\n",
      "Epoch 38, CIFAR-10 Batch 1:  loss: 1.3163440227508545, validation_accuracy: 0.5342000126838684\n",
      "Epoch 39, CIFAR-10 Batch 1:  loss: 1.323940634727478, validation_accuracy: 0.5288000106811523\n",
      "Epoch 40, CIFAR-10 Batch 1:  loss: 1.3239084482192993, validation_accuracy: 0.5260000228881836\n",
      "Epoch 41, CIFAR-10 Batch 1:  loss: 1.3271909952163696, validation_accuracy: 0.5296000242233276\n",
      "Epoch 42, CIFAR-10 Batch 1:  loss: 1.3098163604736328, validation_accuracy: 0.5382000207901001\n",
      "Epoch 43, CIFAR-10 Batch 1:  loss: 1.3103505373001099, validation_accuracy: 0.5335999727249146\n",
      "Epoch 44, CIFAR-10 Batch 1:  loss: 1.3227434158325195, validation_accuracy: 0.5238000154495239\n",
      "Epoch 45, CIFAR-10 Batch 1:  loss: 1.3085883855819702, validation_accuracy: 0.5338000059127808\n",
      "Epoch 46, CIFAR-10 Batch 1:  loss: 1.3174718618392944, validation_accuracy: 0.5324000120162964\n",
      "Epoch 47, CIFAR-10 Batch 1:  loss: 1.3093898296356201, validation_accuracy: 0.5270000100135803\n",
      "Epoch 48, CIFAR-10 Batch 1:  loss: 1.3063613176345825, validation_accuracy: 0.5392000079154968\n",
      "Epoch 49, CIFAR-10 Batch 1:  loss: 1.323776125907898, validation_accuracy: 0.5356000065803528\n",
      "Epoch 50, CIFAR-10 Batch 1:  loss: 1.3097501993179321, validation_accuracy: 0.5321999788284302\n"
     ]
    }
   ],
   "source": [
    "\"\"\"\n",
    "DON'T MODIFY ANYTHING IN THIS CELL\n",
    "\"\"\"\n",
    "print('Checking the Training on a Single Batch...')\n",
    "with tf.Session() as sess:\n",
    "    # Initializing the variables\n",
    "    sess.run(tf.global_variables_initializer())\n",
    "    \n",
    "    # Training cycle\n",
    "    for epoch in range(epochs):\n",
    "        batch_i = 1\n",
    "        for batch_features, batch_labels in helper.load_preprocess_training_batch(batch_i, batch_size):\n",
    "            train_neural_network(sess, optimizer, keep_probability, batch_features, batch_labels)\n",
    "        print('Epoch {:>2}, CIFAR-10 Batch {}:  '.format(epoch + 1, batch_i), end='')\n",
    "        print_stats(sess, batch_features, batch_labels, cost, accuracy)"
   ]
  },
  {
   "cell_type": "markdown",
   "metadata": {},
   "source": [
    "### Fully Train the Model\n",
    "Now that you got a good accuracy with a single CIFAR-10 batch, try it with all five batches."
   ]
  },
  {
   "cell_type": "code",
   "execution_count": 93,
   "metadata": {
    "collapsed": false
   },
   "outputs": [
    {
     "name": "stdout",
     "output_type": "stream",
     "text": [
      "Training...\n",
      "Epoch  1, CIFAR-10 Batch 1:  loss: 2.2068679332733154, validation_accuracy: 0.17239999771118164\n",
      "Epoch  1, CIFAR-10 Batch 2:  loss: 2.0012125968933105, validation_accuracy: 0.2825999855995178\n",
      "Epoch  1, CIFAR-10 Batch 3:  loss: 1.8881731033325195, validation_accuracy: 0.33640000224113464\n",
      "Epoch  1, CIFAR-10 Batch 4:  loss: 1.8144136667251587, validation_accuracy: 0.35760000348091125\n",
      "Epoch  1, CIFAR-10 Batch 5:  loss: 1.7611562013626099, validation_accuracy: 0.37720000743865967\n",
      "Epoch  2, CIFAR-10 Batch 1:  loss: 1.750335931777954, validation_accuracy: 0.37720000743865967\n",
      "Epoch  2, CIFAR-10 Batch 2:  loss: 1.7329343557357788, validation_accuracy: 0.37959998846054077\n",
      "Epoch  2, CIFAR-10 Batch 3:  loss: 1.7175543308258057, validation_accuracy: 0.38420000672340393\n",
      "Epoch  2, CIFAR-10 Batch 4:  loss: 1.686797022819519, validation_accuracy: 0.4007999897003174\n",
      "Epoch  2, CIFAR-10 Batch 5:  loss: 1.6731384992599487, validation_accuracy: 0.39719998836517334\n",
      "Epoch  3, CIFAR-10 Batch 1:  loss: 1.6374560594558716, validation_accuracy: 0.4205999970436096\n",
      "Epoch  3, CIFAR-10 Batch 2:  loss: 1.6406922340393066, validation_accuracy: 0.41819998621940613\n",
      "Epoch  3, CIFAR-10 Batch 3:  loss: 1.6197353601455688, validation_accuracy: 0.41999998688697815\n",
      "Epoch  3, CIFAR-10 Batch 4:  loss: 1.6114283800125122, validation_accuracy: 0.4253999888896942\n",
      "Epoch  3, CIFAR-10 Batch 5:  loss: 1.612761378288269, validation_accuracy: 0.423799991607666\n",
      "Epoch  4, CIFAR-10 Batch 1:  loss: 1.5952808856964111, validation_accuracy: 0.4339999854564667\n",
      "Epoch  4, CIFAR-10 Batch 2:  loss: 1.6067086458206177, validation_accuracy: 0.426800012588501\n",
      "Epoch  4, CIFAR-10 Batch 3:  loss: 1.5928773880004883, validation_accuracy: 0.4323999881744385\n",
      "Epoch  4, CIFAR-10 Batch 4:  loss: 1.5666559934616089, validation_accuracy: 0.4426000118255615\n",
      "Epoch  4, CIFAR-10 Batch 5:  loss: 1.5702269077301025, validation_accuracy: 0.4368000030517578\n",
      "Epoch  5, CIFAR-10 Batch 1:  loss: 1.5649605989456177, validation_accuracy: 0.44179999828338623\n",
      "Epoch  5, CIFAR-10 Batch 2:  loss: 1.562650442123413, validation_accuracy: 0.43619999289512634\n",
      "Epoch  5, CIFAR-10 Batch 3:  loss: 1.5543545484542847, validation_accuracy: 0.43939998745918274\n",
      "Epoch  5, CIFAR-10 Batch 4:  loss: 1.5505030155181885, validation_accuracy: 0.4415999948978424\n",
      "Epoch  5, CIFAR-10 Batch 5:  loss: 1.5886266231536865, validation_accuracy: 0.43479999899864197\n",
      "Epoch  6, CIFAR-10 Batch 1:  loss: 1.5449647903442383, validation_accuracy: 0.44699999690055847\n",
      "Epoch  6, CIFAR-10 Batch 2:  loss: 1.5387170314788818, validation_accuracy: 0.45100000500679016\n",
      "Epoch  6, CIFAR-10 Batch 3:  loss: 1.53483247756958, validation_accuracy: 0.4474000036716461\n",
      "Epoch  6, CIFAR-10 Batch 4:  loss: 1.526694416999817, validation_accuracy: 0.4498000144958496\n",
      "Epoch  6, CIFAR-10 Batch 5:  loss: 1.5397576093673706, validation_accuracy: 0.4397999942302704\n",
      "Epoch  7, CIFAR-10 Batch 1:  loss: 1.5255650281906128, validation_accuracy: 0.4519999921321869\n",
      "Epoch  7, CIFAR-10 Batch 2:  loss: 1.5341860055923462, validation_accuracy: 0.44940000772476196\n",
      "Epoch  7, CIFAR-10 Batch 3:  loss: 1.5102667808532715, validation_accuracy: 0.45260000228881836\n",
      "Epoch  7, CIFAR-10 Batch 4:  loss: 1.5087823867797852, validation_accuracy: 0.45840001106262207\n",
      "Epoch  7, CIFAR-10 Batch 5:  loss: 1.5727161169052124, validation_accuracy: 0.4375999867916107\n",
      "Epoch  8, CIFAR-10 Batch 1:  loss: 1.5210919380187988, validation_accuracy: 0.45719999074935913\n",
      "Epoch  8, CIFAR-10 Batch 2:  loss: 1.525557279586792, validation_accuracy: 0.45159998536109924\n",
      "Epoch  8, CIFAR-10 Batch 3:  loss: 1.4996720552444458, validation_accuracy: 0.4569999873638153\n",
      "Epoch  8, CIFAR-10 Batch 4:  loss: 1.5099316835403442, validation_accuracy: 0.45579999685287476\n",
      "Epoch  8, CIFAR-10 Batch 5:  loss: 1.533083200454712, validation_accuracy: 0.44920000433921814\n",
      "Epoch  9, CIFAR-10 Batch 1:  loss: 1.5017341375350952, validation_accuracy: 0.45739999413490295\n",
      "Epoch  9, CIFAR-10 Batch 2:  loss: 1.5030730962753296, validation_accuracy: 0.46399998664855957\n",
      "Epoch  9, CIFAR-10 Batch 3:  loss: 1.4940879344940186, validation_accuracy: 0.4611999988555908\n",
      "Epoch  9, CIFAR-10 Batch 4:  loss: 1.4935119152069092, validation_accuracy: 0.46619999408721924\n",
      "Epoch  9, CIFAR-10 Batch 5:  loss: 1.5144689083099365, validation_accuracy: 0.4498000144958496\n",
      "Epoch 10, CIFAR-10 Batch 1:  loss: 1.512466311454773, validation_accuracy: 0.45879998803138733\n",
      "Epoch 10, CIFAR-10 Batch 2:  loss: 1.499592661857605, validation_accuracy: 0.4562000036239624\n",
      "Epoch 10, CIFAR-10 Batch 3:  loss: 1.5000489950180054, validation_accuracy: 0.460999995470047\n",
      "Epoch 10, CIFAR-10 Batch 4:  loss: 1.4735281467437744, validation_accuracy: 0.4675999879837036\n",
      "Epoch 10, CIFAR-10 Batch 5:  loss: 1.4854482412338257, validation_accuracy: 0.46480000019073486\n",
      "Epoch 11, CIFAR-10 Batch 1:  loss: 1.516893744468689, validation_accuracy: 0.45820000767707825\n",
      "Epoch 11, CIFAR-10 Batch 2:  loss: 1.4850068092346191, validation_accuracy: 0.4779999852180481\n",
      "Epoch 11, CIFAR-10 Batch 3:  loss: 1.4775149822235107, validation_accuracy: 0.46860000491142273\n",
      "Epoch 11, CIFAR-10 Batch 4:  loss: 1.4811264276504517, validation_accuracy: 0.47099998593330383\n",
      "Epoch 11, CIFAR-10 Batch 5:  loss: 1.482528567314148, validation_accuracy: 0.46399998664855957\n",
      "Epoch 12, CIFAR-10 Batch 1:  loss: 1.4809248447418213, validation_accuracy: 0.47839999198913574\n",
      "Epoch 12, CIFAR-10 Batch 2:  loss: 1.4766570329666138, validation_accuracy: 0.4708000123500824\n",
      "Epoch 12, CIFAR-10 Batch 3:  loss: 1.489558219909668, validation_accuracy: 0.4596000015735626\n",
      "Epoch 12, CIFAR-10 Batch 4:  loss: 1.473310112953186, validation_accuracy: 0.4749999940395355\n",
      "Epoch 12, CIFAR-10 Batch 5:  loss: 1.471495509147644, validation_accuracy: 0.4733999967575073\n",
      "Epoch 13, CIFAR-10 Batch 1:  loss: 1.4772071838378906, validation_accuracy: 0.4715999960899353\n",
      "Epoch 13, CIFAR-10 Batch 2:  loss: 1.474117398262024, validation_accuracy: 0.4758000075817108\n",
      "Epoch 13, CIFAR-10 Batch 3:  loss: 1.4627193212509155, validation_accuracy: 0.48100000619888306\n",
      "Epoch 13, CIFAR-10 Batch 4:  loss: 1.4600119590759277, validation_accuracy: 0.4867999851703644\n",
      "Epoch 13, CIFAR-10 Batch 5:  loss: 1.485992431640625, validation_accuracy: 0.47699999809265137\n",
      "Epoch 14, CIFAR-10 Batch 1:  loss: 1.4790232181549072, validation_accuracy: 0.4726000130176544\n",
      "Epoch 14, CIFAR-10 Batch 2:  loss: 1.4683619737625122, validation_accuracy: 0.4779999852180481\n",
      "Epoch 14, CIFAR-10 Batch 3:  loss: 1.5022894144058228, validation_accuracy: 0.460999995470047\n",
      "Epoch 14, CIFAR-10 Batch 4:  loss: 1.4634181261062622, validation_accuracy: 0.47279998660087585\n",
      "Epoch 14, CIFAR-10 Batch 5:  loss: 1.457085371017456, validation_accuracy: 0.4819999933242798\n",
      "Epoch 15, CIFAR-10 Batch 1:  loss: 1.471750259399414, validation_accuracy: 0.48019999265670776\n",
      "Epoch 15, CIFAR-10 Batch 2:  loss: 1.4581767320632935, validation_accuracy: 0.4787999987602234\n",
      "Epoch 15, CIFAR-10 Batch 3:  loss: 1.4678596258163452, validation_accuracy: 0.4713999927043915\n",
      "Epoch 15, CIFAR-10 Batch 4:  loss: 1.4679863452911377, validation_accuracy: 0.4805999994277954\n",
      "Epoch 15, CIFAR-10 Batch 5:  loss: 1.4620351791381836, validation_accuracy: 0.48539999127388\n",
      "Epoch 16, CIFAR-10 Batch 1:  loss: 1.4611150026321411, validation_accuracy: 0.4828000068664551\n",
      "Epoch 16, CIFAR-10 Batch 2:  loss: 1.4518002271652222, validation_accuracy: 0.4828000068664551\n",
      "Epoch 16, CIFAR-10 Batch 3:  loss: 1.4415733814239502, validation_accuracy: 0.48579999804496765\n",
      "Epoch 16, CIFAR-10 Batch 4:  loss: 1.4415035247802734, validation_accuracy: 0.48399999737739563\n",
      "Epoch 16, CIFAR-10 Batch 5:  loss: 1.4584764242172241, validation_accuracy: 0.48539999127388\n",
      "Epoch 17, CIFAR-10 Batch 1:  loss: 1.4486631155014038, validation_accuracy: 0.4819999933242798\n",
      "Epoch 17, CIFAR-10 Batch 2:  loss: 1.437804937362671, validation_accuracy: 0.49239999055862427\n",
      "Epoch 17, CIFAR-10 Batch 3:  loss: 1.4674888849258423, validation_accuracy: 0.4848000109195709\n",
      "Epoch 17, CIFAR-10 Batch 4:  loss: 1.4515808820724487, validation_accuracy: 0.48980000615119934\n",
      "Epoch 17, CIFAR-10 Batch 5:  loss: 1.461789846420288, validation_accuracy: 0.48579999804496765\n",
      "Epoch 18, CIFAR-10 Batch 1:  loss: 1.4729560613632202, validation_accuracy: 0.4758000075817108\n",
      "Epoch 18, CIFAR-10 Batch 2:  loss: 1.4420783519744873, validation_accuracy: 0.4864000082015991\n",
      "Epoch 18, CIFAR-10 Batch 3:  loss: 1.4269938468933105, validation_accuracy: 0.49320000410079956\n",
      "Epoch 18, CIFAR-10 Batch 4:  loss: 1.4472949504852295, validation_accuracy: 0.48399999737739563\n",
      "Epoch 18, CIFAR-10 Batch 5:  loss: 1.4516849517822266, validation_accuracy: 0.48420000076293945\n",
      "Epoch 19, CIFAR-10 Batch 1:  loss: 1.4316610097885132, validation_accuracy: 0.490200012922287\n",
      "Epoch 19, CIFAR-10 Batch 2:  loss: 1.4391021728515625, validation_accuracy: 0.48840001225471497\n",
      "Epoch 19, CIFAR-10 Batch 3:  loss: 1.4469565153121948, validation_accuracy: 0.4851999878883362\n",
      "Epoch 19, CIFAR-10 Batch 4:  loss: 1.444787621498108, validation_accuracy: 0.48980000615119934\n",
      "Epoch 19, CIFAR-10 Batch 5:  loss: 1.4262866973876953, validation_accuracy: 0.4936000108718872\n",
      "Epoch 20, CIFAR-10 Batch 1:  loss: 1.4325042963027954, validation_accuracy: 0.4909999966621399\n",
      "Epoch 20, CIFAR-10 Batch 2:  loss: 1.4415940046310425, validation_accuracy: 0.49239999055862427\n",
      "Epoch 20, CIFAR-10 Batch 3:  loss: 1.4234533309936523, validation_accuracy: 0.4984000027179718\n",
      "Epoch 20, CIFAR-10 Batch 4:  loss: 1.417290210723877, validation_accuracy: 0.5031999945640564\n",
      "Epoch 20, CIFAR-10 Batch 5:  loss: 1.4192914962768555, validation_accuracy: 0.4970000088214874\n",
      "Epoch 21, CIFAR-10 Batch 1:  loss: 1.4283326864242554, validation_accuracy: 0.4970000088214874\n",
      "Epoch 21, CIFAR-10 Batch 2:  loss: 1.4301044940948486, validation_accuracy: 0.49880000948905945\n",
      "Epoch 21, CIFAR-10 Batch 3:  loss: 1.421073079109192, validation_accuracy: 0.4952000081539154\n",
      "Epoch 21, CIFAR-10 Batch 4:  loss: 1.4170972108840942, validation_accuracy: 0.5058000087738037\n",
      "Epoch 21, CIFAR-10 Batch 5:  loss: 1.428154468536377, validation_accuracy: 0.48919999599456787\n",
      "Epoch 22, CIFAR-10 Batch 1:  loss: 1.4216822385787964, validation_accuracy: 0.49559998512268066\n",
      "Epoch 22, CIFAR-10 Batch 2:  loss: 1.4217376708984375, validation_accuracy: 0.5001999735832214\n",
      "Epoch 22, CIFAR-10 Batch 3:  loss: 1.4196423292160034, validation_accuracy: 0.49880000948905945\n",
      "Epoch 22, CIFAR-10 Batch 4:  loss: 1.4121214151382446, validation_accuracy: 0.5059999823570251\n",
      "Epoch 22, CIFAR-10 Batch 5:  loss: 1.425620436668396, validation_accuracy: 0.5005999803543091\n",
      "Epoch 23, CIFAR-10 Batch 1:  loss: 1.4205838441848755, validation_accuracy: 0.4984000027179718\n",
      "Epoch 23, CIFAR-10 Batch 2:  loss: 1.4136555194854736, validation_accuracy: 0.5023999810218811\n",
      "Epoch 23, CIFAR-10 Batch 3:  loss: 1.4214069843292236, validation_accuracy: 0.49459999799728394\n",
      "Epoch 23, CIFAR-10 Batch 4:  loss: 1.4178770780563354, validation_accuracy: 0.5009999871253967\n",
      "Epoch 23, CIFAR-10 Batch 5:  loss: 1.4224655628204346, validation_accuracy: 0.49779999256134033\n",
      "Epoch 24, CIFAR-10 Batch 1:  loss: 1.4266598224639893, validation_accuracy: 0.4966000020503998\n",
      "Epoch 24, CIFAR-10 Batch 2:  loss: 1.4174116849899292, validation_accuracy: 0.501800000667572\n",
      "Epoch 24, CIFAR-10 Batch 3:  loss: 1.4158282279968262, validation_accuracy: 0.5027999877929688\n",
      "Epoch 24, CIFAR-10 Batch 4:  loss: 1.4131484031677246, validation_accuracy: 0.501800000667572\n",
      "Epoch 24, CIFAR-10 Batch 5:  loss: 1.4374624490737915, validation_accuracy: 0.4878000020980835\n",
      "Epoch 25, CIFAR-10 Batch 1:  loss: 1.43185293674469, validation_accuracy: 0.492000013589859\n",
      "Epoch 25, CIFAR-10 Batch 2:  loss: 1.4084503650665283, validation_accuracy: 0.5027999877929688\n",
      "Epoch 25, CIFAR-10 Batch 3:  loss: 1.4038664102554321, validation_accuracy: 0.5016000270843506\n",
      "Epoch 25, CIFAR-10 Batch 4:  loss: 1.4039831161499023, validation_accuracy: 0.504800021648407\n",
      "Epoch 25, CIFAR-10 Batch 5:  loss: 1.4012593030929565, validation_accuracy: 0.5073999762535095\n",
      "Epoch 26, CIFAR-10 Batch 1:  loss: 1.4140394926071167, validation_accuracy: 0.5026000142097473\n",
      "Epoch 26, CIFAR-10 Batch 2:  loss: 1.409191608428955, validation_accuracy: 0.5054000020027161\n",
      "Epoch 26, CIFAR-10 Batch 3:  loss: 1.4017988443374634, validation_accuracy: 0.49939998984336853\n",
      "Epoch 26, CIFAR-10 Batch 4:  loss: 1.4041045904159546, validation_accuracy: 0.5052000284194946\n",
      "Epoch 26, CIFAR-10 Batch 5:  loss: 1.4246376752853394, validation_accuracy: 0.4950000047683716\n",
      "Epoch 27, CIFAR-10 Batch 1:  loss: 1.412523627281189, validation_accuracy: 0.503600001335144\n",
      "Epoch 27, CIFAR-10 Batch 2:  loss: 1.416033387184143, validation_accuracy: 0.5005999803543091\n",
      "Epoch 27, CIFAR-10 Batch 3:  loss: 1.3928824663162231, validation_accuracy: 0.5049999952316284\n",
      "Epoch 27, CIFAR-10 Batch 4:  loss: 1.4084428548812866, validation_accuracy: 0.4997999966144562\n",
      "Epoch 27, CIFAR-10 Batch 5:  loss: 1.4189839363098145, validation_accuracy: 0.49459999799728394\n",
      "Epoch 28, CIFAR-10 Batch 1:  loss: 1.4039349555969238, validation_accuracy: 0.5054000020027161\n",
      "Epoch 28, CIFAR-10 Batch 2:  loss: 1.416375756263733, validation_accuracy: 0.5009999871253967\n",
      "Epoch 28, CIFAR-10 Batch 3:  loss: 1.4042900800704956, validation_accuracy: 0.5023999810218811\n",
      "Epoch 28, CIFAR-10 Batch 4:  loss: 1.4291447401046753, validation_accuracy: 0.49300000071525574\n",
      "Epoch 28, CIFAR-10 Batch 5:  loss: 1.4070405960083008, validation_accuracy: 0.503000020980835\n",
      "Epoch 29, CIFAR-10 Batch 1:  loss: 1.4023884534835815, validation_accuracy: 0.5031999945640564\n",
      "Epoch 29, CIFAR-10 Batch 2:  loss: 1.3990308046340942, validation_accuracy: 0.5073999762535095\n",
      "Epoch 29, CIFAR-10 Batch 3:  loss: 1.3929495811462402, validation_accuracy: 0.5090000033378601\n",
      "Epoch 29, CIFAR-10 Batch 4:  loss: 1.400570273399353, validation_accuracy: 0.5098000168800354\n",
      "Epoch 29, CIFAR-10 Batch 5:  loss: 1.4010844230651855, validation_accuracy: 0.5045999884605408\n",
      "Epoch 30, CIFAR-10 Batch 1:  loss: 1.402084231376648, validation_accuracy: 0.5034000277519226\n",
      "Epoch 30, CIFAR-10 Batch 2:  loss: 1.3948206901550293, validation_accuracy: 0.5045999884605408\n",
      "Epoch 30, CIFAR-10 Batch 3:  loss: 1.387087106704712, validation_accuracy: 0.5094000101089478\n",
      "Epoch 30, CIFAR-10 Batch 4:  loss: 1.3876128196716309, validation_accuracy: 0.5135999917984009\n",
      "Epoch 30, CIFAR-10 Batch 5:  loss: 1.4146270751953125, validation_accuracy: 0.501800000667572\n",
      "Epoch 31, CIFAR-10 Batch 1:  loss: 1.4097625017166138, validation_accuracy: 0.49939998984336853\n",
      "Epoch 31, CIFAR-10 Batch 2:  loss: 1.4021285772323608, validation_accuracy: 0.5112000107765198\n",
      "Epoch 31, CIFAR-10 Batch 3:  loss: 1.3889275789260864, validation_accuracy: 0.5113999843597412\n",
      "Epoch 31, CIFAR-10 Batch 4:  loss: 1.3965405225753784, validation_accuracy: 0.5120000243186951\n",
      "Epoch 31, CIFAR-10 Batch 5:  loss: 1.4043439626693726, validation_accuracy: 0.5008000135421753\n",
      "Epoch 32, CIFAR-10 Batch 1:  loss: 1.3977247476577759, validation_accuracy: 0.5088000297546387\n",
      "Epoch 32, CIFAR-10 Batch 2:  loss: 1.3969752788543701, validation_accuracy: 0.5157999992370605\n",
      "Epoch 32, CIFAR-10 Batch 3:  loss: 1.424345850944519, validation_accuracy: 0.5013999938964844\n",
      "Epoch 32, CIFAR-10 Batch 4:  loss: 1.3903439044952393, validation_accuracy: 0.5184000134468079\n",
      "Epoch 32, CIFAR-10 Batch 5:  loss: 1.3922783136367798, validation_accuracy: 0.5076000094413757\n",
      "Epoch 33, CIFAR-10 Batch 1:  loss: 1.4026850461959839, validation_accuracy: 0.5058000087738037\n",
      "Epoch 33, CIFAR-10 Batch 2:  loss: 1.3970720767974854, validation_accuracy: 0.5090000033378601\n",
      "Epoch 33, CIFAR-10 Batch 3:  loss: 1.4110060930252075, validation_accuracy: 0.5008000135421753\n",
      "Epoch 33, CIFAR-10 Batch 4:  loss: 1.397082805633545, validation_accuracy: 0.510200023651123\n",
      "Epoch 33, CIFAR-10 Batch 5:  loss: 1.4021350145339966, validation_accuracy: 0.5054000020027161\n",
      "Epoch 34, CIFAR-10 Batch 1:  loss: 1.392499327659607, validation_accuracy: 0.5185999870300293\n",
      "Epoch 34, CIFAR-10 Batch 2:  loss: 1.3925127983093262, validation_accuracy: 0.5103999972343445\n",
      "Epoch 34, CIFAR-10 Batch 3:  loss: 1.3941782712936401, validation_accuracy: 0.5105999708175659\n",
      "Epoch 34, CIFAR-10 Batch 4:  loss: 1.3877513408660889, validation_accuracy: 0.5163999795913696\n",
      "Epoch 34, CIFAR-10 Batch 5:  loss: 1.4147355556488037, validation_accuracy: 0.5085999965667725\n",
      "Epoch 35, CIFAR-10 Batch 1:  loss: 1.382391333580017, validation_accuracy: 0.5131999850273132\n",
      "Epoch 35, CIFAR-10 Batch 2:  loss: 1.390222430229187, validation_accuracy: 0.5095999836921692\n",
      "Epoch 35, CIFAR-10 Batch 3:  loss: 1.3709967136383057, validation_accuracy: 0.5181999802589417\n",
      "Epoch 35, CIFAR-10 Batch 4:  loss: 1.4069620370864868, validation_accuracy: 0.5045999884605408\n",
      "Epoch 35, CIFAR-10 Batch 5:  loss: 1.3940216302871704, validation_accuracy: 0.5130000114440918\n",
      "Epoch 36, CIFAR-10 Batch 1:  loss: 1.3761605024337769, validation_accuracy: 0.5145999789237976\n",
      "Epoch 36, CIFAR-10 Batch 2:  loss: 1.3861955404281616, validation_accuracy: 0.5105999708175659\n",
      "Epoch 36, CIFAR-10 Batch 3:  loss: 1.389677882194519, validation_accuracy: 0.510200023651123\n",
      "Epoch 36, CIFAR-10 Batch 4:  loss: 1.3784981966018677, validation_accuracy: 0.5121999979019165\n",
      "Epoch 36, CIFAR-10 Batch 5:  loss: 1.3911916017532349, validation_accuracy: 0.5181999802589417\n",
      "Epoch 37, CIFAR-10 Batch 1:  loss: 1.3939793109893799, validation_accuracy: 0.5120000243186951\n",
      "Epoch 37, CIFAR-10 Batch 2:  loss: 1.3694095611572266, validation_accuracy: 0.5203999876976013\n",
      "Epoch 37, CIFAR-10 Batch 3:  loss: 1.3837147951126099, validation_accuracy: 0.5203999876976013\n",
      "Epoch 37, CIFAR-10 Batch 4:  loss: 1.4008294343948364, validation_accuracy: 0.5120000243186951\n",
      "Epoch 37, CIFAR-10 Batch 5:  loss: 1.394392728805542, validation_accuracy: 0.5181999802589417\n",
      "Epoch 38, CIFAR-10 Batch 1:  loss: 1.3888201713562012, validation_accuracy: 0.5103999972343445\n",
      "Epoch 38, CIFAR-10 Batch 2:  loss: 1.376228928565979, validation_accuracy: 0.5234000086784363\n",
      "Epoch 38, CIFAR-10 Batch 3:  loss: 1.3618971109390259, validation_accuracy: 0.5185999870300293\n",
      "Epoch 38, CIFAR-10 Batch 4:  loss: 1.3791968822479248, validation_accuracy: 0.5123999714851379\n",
      "Epoch 38, CIFAR-10 Batch 5:  loss: 1.3858956098556519, validation_accuracy: 0.5171999931335449\n",
      "Epoch 39, CIFAR-10 Batch 1:  loss: 1.3758476972579956, validation_accuracy: 0.517799973487854\n",
      "Epoch 39, CIFAR-10 Batch 2:  loss: 1.3757333755493164, validation_accuracy: 0.5188000202178955\n",
      "Epoch 39, CIFAR-10 Batch 3:  loss: 1.377192497253418, validation_accuracy: 0.5234000086784363\n",
      "Epoch 39, CIFAR-10 Batch 4:  loss: 1.3730907440185547, validation_accuracy: 0.5216000080108643\n",
      "Epoch 39, CIFAR-10 Batch 5:  loss: 1.4218558073043823, validation_accuracy: 0.5058000087738037\n",
      "Epoch 40, CIFAR-10 Batch 1:  loss: 1.369939923286438, validation_accuracy: 0.5162000060081482\n",
      "Epoch 40, CIFAR-10 Batch 2:  loss: 1.372894287109375, validation_accuracy: 0.5185999870300293\n",
      "Epoch 40, CIFAR-10 Batch 3:  loss: 1.3608543872833252, validation_accuracy: 0.5139999985694885\n",
      "Epoch 40, CIFAR-10 Batch 4:  loss: 1.3705312013626099, validation_accuracy: 0.5194000005722046\n",
      "Epoch 40, CIFAR-10 Batch 5:  loss: 1.3850319385528564, validation_accuracy: 0.5174000263214111\n",
      "Epoch 41, CIFAR-10 Batch 1:  loss: 1.3734275102615356, validation_accuracy: 0.5139999985694885\n",
      "Epoch 41, CIFAR-10 Batch 2:  loss: 1.3723907470703125, validation_accuracy: 0.5216000080108643\n",
      "Epoch 41, CIFAR-10 Batch 3:  loss: 1.3625710010528564, validation_accuracy: 0.5275999903678894\n",
      "Epoch 41, CIFAR-10 Batch 4:  loss: 1.386444330215454, validation_accuracy: 0.5138000249862671\n",
      "Epoch 41, CIFAR-10 Batch 5:  loss: 1.3716979026794434, validation_accuracy: 0.5257999897003174\n",
      "Epoch 42, CIFAR-10 Batch 1:  loss: 1.3876005411148071, validation_accuracy: 0.5127999782562256\n",
      "Epoch 42, CIFAR-10 Batch 2:  loss: 1.3855808973312378, validation_accuracy: 0.5188000202178955\n",
      "Epoch 42, CIFAR-10 Batch 3:  loss: 1.3595267534255981, validation_accuracy: 0.527999997138977\n",
      "Epoch 42, CIFAR-10 Batch 4:  loss: 1.3844754695892334, validation_accuracy: 0.5239999890327454\n",
      "Epoch 42, CIFAR-10 Batch 5:  loss: 1.3813965320587158, validation_accuracy: 0.5212000012397766\n",
      "Epoch 43, CIFAR-10 Batch 1:  loss: 1.362290859222412, validation_accuracy: 0.5267999768257141\n",
      "Epoch 43, CIFAR-10 Batch 2:  loss: 1.3975441455841064, validation_accuracy: 0.5180000066757202\n",
      "Epoch 43, CIFAR-10 Batch 3:  loss: 1.3597708940505981, validation_accuracy: 0.5220000147819519\n",
      "Epoch 43, CIFAR-10 Batch 4:  loss: 1.365850806236267, validation_accuracy: 0.5239999890327454\n",
      "Epoch 43, CIFAR-10 Batch 5:  loss: 1.374203085899353, validation_accuracy: 0.5234000086784363\n",
      "Epoch 44, CIFAR-10 Batch 1:  loss: 1.369079828262329, validation_accuracy: 0.5231999754905701\n",
      "Epoch 44, CIFAR-10 Batch 2:  loss: 1.3675808906555176, validation_accuracy: 0.5228000283241272\n",
      "Epoch 44, CIFAR-10 Batch 3:  loss: 1.3608624935150146, validation_accuracy: 0.5249999761581421\n",
      "Epoch 44, CIFAR-10 Batch 4:  loss: 1.3675636053085327, validation_accuracy: 0.524399995803833\n",
      "Epoch 44, CIFAR-10 Batch 5:  loss: 1.3591583967208862, validation_accuracy: 0.527999997138977\n",
      "Epoch 45, CIFAR-10 Batch 1:  loss: 1.3655654191970825, validation_accuracy: 0.5246000289916992\n",
      "Epoch 45, CIFAR-10 Batch 2:  loss: 1.3756555318832397, validation_accuracy: 0.5216000080108643\n",
      "Epoch 45, CIFAR-10 Batch 3:  loss: 1.3566628694534302, validation_accuracy: 0.5324000120162964\n",
      "Epoch 45, CIFAR-10 Batch 4:  loss: 1.3631083965301514, validation_accuracy: 0.5311999917030334\n",
      "Epoch 45, CIFAR-10 Batch 5:  loss: 1.4161579608917236, validation_accuracy: 0.5103999972343445\n",
      "Epoch 46, CIFAR-10 Batch 1:  loss: 1.3613790273666382, validation_accuracy: 0.527999997138977\n",
      "Epoch 46, CIFAR-10 Batch 2:  loss: 1.3594061136245728, validation_accuracy: 0.5315999984741211\n",
      "Epoch 46, CIFAR-10 Batch 3:  loss: 1.35205078125, validation_accuracy: 0.5253999829292297\n",
      "Epoch 46, CIFAR-10 Batch 4:  loss: 1.3558415174484253, validation_accuracy: 0.5321999788284302\n",
      "Epoch 46, CIFAR-10 Batch 5:  loss: 1.3709678649902344, validation_accuracy: 0.5271999835968018\n",
      "Epoch 47, CIFAR-10 Batch 1:  loss: 1.368549108505249, validation_accuracy: 0.5257999897003174\n",
      "Epoch 47, CIFAR-10 Batch 2:  loss: 1.3503221273422241, validation_accuracy: 0.5321999788284302\n",
      "Epoch 47, CIFAR-10 Batch 3:  loss: 1.3574347496032715, validation_accuracy: 0.5270000100135803\n",
      "Epoch 47, CIFAR-10 Batch 4:  loss: 1.3713115453720093, validation_accuracy: 0.527999997138977\n",
      "Epoch 47, CIFAR-10 Batch 5:  loss: 1.3890587091445923, validation_accuracy: 0.5275999903678894\n",
      "Epoch 48, CIFAR-10 Batch 1:  loss: 1.3543154001235962, validation_accuracy: 0.5311999917030334\n",
      "Epoch 48, CIFAR-10 Batch 2:  loss: 1.3808752298355103, validation_accuracy: 0.5181999802589417\n",
      "Epoch 48, CIFAR-10 Batch 3:  loss: 1.366363286972046, validation_accuracy: 0.5306000113487244\n",
      "Epoch 48, CIFAR-10 Batch 4:  loss: 1.3786418437957764, validation_accuracy: 0.5188000202178955\n",
      "Epoch 48, CIFAR-10 Batch 5:  loss: 1.3711072206497192, validation_accuracy: 0.5246000289916992\n",
      "Epoch 49, CIFAR-10 Batch 1:  loss: 1.3529859781265259, validation_accuracy: 0.5296000242233276\n",
      "Epoch 49, CIFAR-10 Batch 2:  loss: 1.3467764854431152, validation_accuracy: 0.5314000248908997\n",
      "Epoch 49, CIFAR-10 Batch 3:  loss: 1.3498235940933228, validation_accuracy: 0.5266000032424927\n",
      "Epoch 49, CIFAR-10 Batch 4:  loss: 1.3660659790039062, validation_accuracy: 0.5210000276565552\n",
      "Epoch 49, CIFAR-10 Batch 5:  loss: 1.3602409362792969, validation_accuracy: 0.5239999890327454\n",
      "Epoch 50, CIFAR-10 Batch 1:  loss: 1.352888822555542, validation_accuracy: 0.527999997138977\n",
      "Epoch 50, CIFAR-10 Batch 2:  loss: 1.354844093322754, validation_accuracy: 0.525600016117096\n",
      "Epoch 50, CIFAR-10 Batch 3:  loss: 1.3818031549453735, validation_accuracy: 0.5224000215530396\n",
      "Epoch 50, CIFAR-10 Batch 4:  loss: 1.351775884628296, validation_accuracy: 0.5320000052452087\n",
      "Epoch 50, CIFAR-10 Batch 5:  loss: 1.4086501598358154, validation_accuracy: 0.5180000066757202\n"
     ]
    }
   ],
   "source": [
    "\"\"\"\n",
    "DON'T MODIFY ANYTHING IN THIS CELL\n",
    "\"\"\"\n",
    "save_model_path = './image_classification'\n",
    "\n",
    "print('Training...')\n",
    "with tf.Session() as sess:\n",
    "    # Initializing the variables\n",
    "    sess.run(tf.global_variables_initializer())\n",
    "    \n",
    "    # Training cycle\n",
    "    for epoch in range(epochs):\n",
    "        # Loop over all batches\n",
    "        n_batches = 5\n",
    "        for batch_i in range(1, n_batches + 1):\n",
    "            for batch_features, batch_labels in helper.load_preprocess_training_batch(batch_i, batch_size):\n",
    "                train_neural_network(sess, optimizer, keep_probability, batch_features, batch_labels)\n",
    "            print('Epoch {:>2}, CIFAR-10 Batch {}:  '.format(epoch + 1, batch_i), end='')\n",
    "            print_stats(sess, batch_features, batch_labels, cost, accuracy)\n",
    "            \n",
    "    # Save Model\n",
    "    saver = tf.train.Saver()\n",
    "    save_path = saver.save(sess, save_model_path)"
   ]
  },
  {
   "cell_type": "markdown",
   "metadata": {},
   "source": [
    "# Checkpoint\n",
    "The model has been saved to disk.\n",
    "## Test Model\n",
    "Test your model against the test dataset.  This will be your final accuracy. You should have an accuracy greater than 50%. If you don't, keep tweaking the model architecture and parameters."
   ]
  },
  {
   "cell_type": "code",
   "execution_count": 94,
   "metadata": {
    "collapsed": false
   },
   "outputs": [
    {
     "name": "stdout",
     "output_type": "stream",
     "text": [
      "INFO:tensorflow:Restoring parameters from ./image_classification\n",
      "Testing Accuracy: 0.5185917721518988\n",
      "\n"
     ]
    },
    {
     "data": {
      "image/png": "[encoded data removed]",
      "text/plain": [
       "<matplotlib.figure.Figure at 0x11e9bc978>"
      ]
     },
     "metadata": {
      "image/png": {
       "height": 319,
       "width": 355
      }
     },
     "output_type": "display_data"
    }
   ],
   "source": [
    "\"\"\"\n",
    "DON'T MODIFY ANYTHING IN THIS CELL\n",
    "\"\"\"\n",
    "%matplotlib inline\n",
    "%config InlineBackend.figure_format = 'retina'\n",
    "\n",
    "import tensorflow as tf\n",
    "import pickle\n",
    "import helper\n",
    "import random\n",
    "\n",
    "# Set batch size if not already set\n",
    "try:\n",
    "    if batch_size:\n",
    "        pass\n",
    "except NameError:\n",
    "    batch_size = 64\n",
    "\n",
    "save_model_path = './image_classification'\n",
    "n_samples = 4\n",
    "top_n_predictions = 3\n",
    "\n",
    "def test_model():\n",
    "    \"\"\"\n",
    "    Test the saved model against the test dataset\n",
    "    \"\"\"\n",
    "\n",
    "    test_features, test_labels = pickle.load(open('preprocess_training.p', mode='rb'))\n",
    "    loaded_graph = tf.Graph()\n",
    "\n",
    "    with tf.Session(graph=loaded_graph) as sess:\n",
    "        # Load model\n",
    "        loader = tf.train.import_meta_graph(save_model_path + '.meta')\n",
    "        loader.restore(sess, save_model_path)\n",
    "\n",
    "        # Get Tensors from loaded model\n",
    "        loaded_x = loaded_graph.get_tensor_by_name('x:0')\n",
    "        loaded_y = loaded_graph.get_tensor_by_name('y:0')\n",
    "        loaded_keep_prob = loaded_graph.get_tensor_by_name('keep_prob:0')\n",
    "        loaded_logits = loaded_graph.get_tensor_by_name('logits:0')\n",
    "        loaded_acc = loaded_graph.get_tensor_by_name('accuracy:0')\n",
    "        \n",
    "        # Get accuracy in batches for memory limitations\n",
    "        test_batch_acc_total = 0\n",
    "        test_batch_count = 0\n",
    "        \n",
    "        for train_feature_batch, train_label_batch in helper.batch_features_labels(test_features, test_labels, batch_size):\n",
    "            test_batch_acc_total += sess.run(\n",
    "                loaded_acc,\n",
    "                feed_dict={loaded_x: train_feature_batch, loaded_y: train_label_batch, loaded_keep_prob: 1.0})\n",
    "            test_batch_count += 1\n",
    "\n",
    "        print('Testing Accuracy: {}\\n'.format(test_batch_acc_total/test_batch_count))\n",
    "\n",
    "        # Print Random Samples\n",
    "        random_test_features, random_test_labels = tuple(zip(*random.sample(list(zip(test_features, test_labels)), n_samples)))\n",
    "        random_test_predictions = sess.run(\n",
    "            tf.nn.top_k(tf.nn.softmax(loaded_logits), top_n_predictions),\n",
    "            feed_dict={loaded_x: random_test_features, loaded_y: random_test_labels, loaded_keep_prob: 1.0})\n",
    "        helper.display_image_predictions(random_test_features, random_test_labels, random_test_predictions)\n",
    "\n",
    "\n",
    "test_model()"
   ]
  },
  {
   "cell_type": "markdown",
   "metadata": {},
   "source": [
    "## Why 50-80% Accuracy?\n",
    "You might be wondering why you can't get an accuracy any higher. First things first, 50% isn't bad for a simple CNN.  Pure guessing would get you 10% accuracy. However, you might notice people are getting scores [well above 80%](http://rodrigob.github.io/are_we_there_yet/build/classification_datasets_results.html#43494641522d3130).  That's because we haven't taught you all there is to know about neural networks. We still need to cover a few more techniques.\n",
    "## Submitting This Project\n",
    "When submitting this project, make sure to run all the cells before saving the notebook.  Save the notebook file as \"dlnd_image_classification.ipynb\" and save it as a HTML file under \"File\" -> \"Download as\".  Include the \"helper.py\" and \"problem_unittests.py\" files in your submission."
   ]
  },
  {
   "cell_type": "code",
   "execution_count": null,
   "metadata": {
    "collapsed": true
   },
   "outputs": [],
   "source": []
  }
 ],
 "metadata": {
  "kernelspec": {
   "display_name": "Python 3",
   "language": "python",
   "name": "python3"
  },
  "language_info": {
   "codemirror_mode": {
    "name": "ipython",
    "version": 3
   },
   "file_extension": ".py",
   "mimetype": "text/x-python",
   "name": "python",
   "nbconvert_exporter": "python",
   "pygments_lexer": "ipython3",
   "version": "3.6.0"
  }
 },
 "nbformat": 4,
 "nbformat_minor": 0
}
