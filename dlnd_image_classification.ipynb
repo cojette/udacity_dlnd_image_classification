{
 "cells": [
  {
   "cell_type": "markdown",
   "metadata": {
    "collapsed": true
   },
   "source": [
    "# Image Classification\n",
    "In this project, you'll classify images from the [CIFAR-10 dataset](https://www.cs.toronto.edu/~kriz/cifar.html).  The dataset consists of airplanes, dogs, cats, and other objects. You'll preprocess the images, then train a convolutional neural network on all the samples. The images need to be normalized and the labels need to be one-hot encoded.  You'll get to apply what you learned and build a convolutional, max pooling, dropout, and fully connected layers.  At the end, you'll get to see your neural network's predictions on the sample images.\n",
    "## Get the Data\n",
    "Run the following cell to download the [CIFAR-10 dataset for python](https://www.cs.toronto.edu/~kriz/cifar-10-python.tar.gz)."
   ]
  },
  {
   "cell_type": "code",
   "execution_count": 1,
   "metadata": {
    "collapsed": false
   },
   "outputs": [
    {
     "name": "stderr",
     "output_type": "stream",
     "text": [
      "CIFAR-10 Dataset: 171MB [25:48, 117KB/s]                               \n"
     ]
    },
    {
     "name": "stdout",
     "output_type": "stream",
     "text": [
      "All files found!\n"
     ]
    }
   ],
   "source": [
    "\"\"\"\n",
    "DON'T MODIFY ANYTHING IN THIS CELL THAT IS BELOW THIS LINE\n",
    "\"\"\"\n",
    "from urllib.request import urlretrieve\n",
    "from os.path import isfile, isdir\n",
    "from tqdm import tqdm\n",
    "import problem_unittests as tests\n",
    "import tarfile\n",
    "\n",
    "cifar10_dataset_folder_path = 'cifar-10-batches-py'\n",
    "\n",
    "class DLProgress(tqdm):\n",
    "    last_block = 0\n",
    "\n",
    "    def hook(self, block_num=1, block_size=1, total_size=None):\n",
    "        self.total = total_size\n",
    "        self.update((block_num - self.last_block) * block_size)\n",
    "        self.last_block = block_num\n",
    "\n",
    "if not isfile('cifar-10-python.tar.gz'):\n",
    "    with DLProgress(unit='B', unit_scale=True, miniters=1, desc='CIFAR-10 Dataset') as pbar:\n",
    "        urlretrieve(\n",
    "            'https://www.cs.toronto.edu/~kriz/cifar-10-python.tar.gz',\n",
    "            'cifar-10-python.tar.gz',\n",
    "            pbar.hook)\n",
    "\n",
    "if not isdir(cifar10_dataset_folder_path):\n",
    "    with tarfile.open('cifar-10-python.tar.gz') as tar:\n",
    "        tar.extractall()\n",
    "        tar.close()\n",
    "\n",
    "\n",
    "tests.test_folder_path(cifar10_dataset_folder_path)"
   ]
  },
  {
   "cell_type": "markdown",
   "metadata": {},
   "source": [
    "## Explore the Data\n",
    "The dataset is broken into batches to prevent your machine from running out of memory.  The CIFAR-10 dataset consists of 5 batches, named `data_batch_1`, `data_batch_2`, etc.. Each batch contains the labels and images that are one of the following:\n",
    "* airplane\n",
    "* automobile\n",
    "* bird\n",
    "* cat\n",
    "* deer\n",
    "* dog\n",
    "* frog\n",
    "* horse\n",
    "* ship\n",
    "* truck\n",
    "\n",
    "Understanding a dataset is part of making predictions on the data.  Play around with the code cell below by changing the `batch_id` and `sample_id`. The `batch_id` is the id for a batch (1-5). The `sample_id` is the id for a image and label pair in the batch.\n",
    "\n",
    "Ask yourself \"What are all possible labels?\", \"What is the range of values for the image data?\", \"Are the labels in order or random?\".  Answers to questions like these will help you preprocess the data and end up with better predictions."
   ]
  },
  {
   "cell_type": "code",
   "execution_count": 2,
   "metadata": {
    "collapsed": false
   },
   "outputs": [
    {
     "name": "stdout",
     "output_type": "stream",
     "text": [
      "\n",
      "Stats of batch 1:\n",
      "Samples: 10000\n",
      "Label Counts: {0: 1005, 1: 974, 2: 1032, 3: 1016, 4: 999, 5: 937, 6: 1030, 7: 1001, 8: 1025, 9: 981}\n",
      "First 20 Labels: [6, 9, 9, 4, 1, 1, 2, 7, 8, 3, 4, 7, 7, 2, 9, 9, 9, 3, 2, 6]\n",
      "\n",
      "Example of Image 5:\n",
      "Image - Min Value: 0 Max Value: 252\n",
      "Image - Shape: (32, 32, 3)\n",
      "Label - Label Id: 1 Name: automobile\n"
     ]
    },
    {
     "data": {
      "image/png": "[encoded data removed]",
      "text/plain": [
       "<matplotlib.figure.Figure at 0x113abdb38>"
      ]
     },
     "metadata": {
      "image/png": {
       "height": 250,
       "width": 253
      }
     },
     "output_type": "display_data"
    }
   ],
   "source": [
    "%matplotlib inline\n",
    "%config InlineBackend.figure_format = 'retina'\n",
    "\n",
    "import helper\n",
    "import numpy as np\n",
    "\n",
    "# Explore the dataset\n",
    "batch_id = 1\n",
    "sample_id = 5\n",
    "helper.display_stats(cifar10_dataset_folder_path, batch_id, sample_id)"
   ]
  },
  {
   "cell_type": "markdown",
   "metadata": {},
   "source": [
    "## Implement Preprocess Functions\n",
    "### Normalize\n",
    "In the cell below, implement the `normalize` function to take in image data, `x`, and return it as a normalized Numpy array. The values should be in the range of 0 to 1, inclusive.  The return object should be the same shape as `x`."
   ]
  },
  {
   "cell_type": "code",
   "execution_count": 3,
   "metadata": {
    "collapsed": false
   },
   "outputs": [
    {
     "name": "stdout",
     "output_type": "stream",
     "text": [
      "Tests Passed\n"
     ]
    }
   ],
   "source": [
    "def normalize(x):\n",
    "    \"\"\"\n",
    "    Normalize a list of sample image data in the range of 0 to 1\n",
    "    : x: List of image data.  The image shape is (32, 32, 3)\n",
    "    : return: Numpy array of normalize data\n",
    "    \"\"\"\n",
    "    # TODO: Implement Function\n",
    "    return x/255\n",
    "\n",
    "\n",
    "\"\"\"\n",
    "DON'T MODIFY ANYTHING IN THIS CELL THAT IS BELOW THIS LINE\n",
    "\"\"\"\n",
    "tests.test_normalize(normalize)"
   ]
  },
  {
   "cell_type": "markdown",
   "metadata": {},
   "source": [
    "### One-hot encode\n",
    "Just like the previous code cell, you'll be implementing a function for preprocessing.  This time, you'll implement the `one_hot_encode` function. The input, `x`, are a list of labels.  Implement the function to return the list of labels as One-Hot encoded Numpy array.  The possible values for labels are 0 to 9. The one-hot encoding function should return the same encoding for each value between each call to `one_hot_encode`.  Make sure to save the map of encodings outside the function.\n",
    "\n",
    "Hint: Don't reinvent the wheel."
   ]
  },
  {
   "cell_type": "code",
   "execution_count": 4,
   "metadata": {
    "collapsed": false
   },
   "outputs": [
    {
     "name": "stdout",
     "output_type": "stream",
     "text": [
      "Tests Passed\n"
     ]
    }
   ],
   "source": [
    "def one_hot_encode(x):\n",
    "    \"\"\"\n",
    "    One hot encode a list of sample labels. Return a one-hot encoded vector for each label.\n",
    "    : x: List of sample Labels\n",
    "    : return: Numpy array of one-hot encoded labels\n",
    "    \"\"\"\n",
    "    # TODO: Implement Function\n",
    "    y = np.zeros((len(x), 10))\n",
    "    for i in range(len(x)):\n",
    "        y[i,x[i]] = 1\n",
    "        \n",
    "    return y\n",
    "\n",
    "\n",
    "\"\"\"\n",
    "DON'T MODIFY ANYTHING IN THIS CELL THAT IS BELOW THIS LINE\n",
    "\"\"\"\n",
    "tests.test_one_hot_encode(one_hot_encode)"
   ]
  },
  {
   "cell_type": "markdown",
   "metadata": {},
   "source": [
    "### Randomize Data\n",
    "As you saw from exploring the data above, the order of the samples are randomized.  It doesn't hurt to randomize it again, but you don't need to for this dataset."
   ]
  },
  {
   "cell_type": "markdown",
   "metadata": {},
   "source": [
    "## Preprocess all the data and save it\n",
    "Running the code cell below will preprocess all the CIFAR-10 data and save it to file. The code below also uses 10% of the training data for validation."
   ]
  },
  {
   "cell_type": "code",
   "execution_count": 5,
   "metadata": {
    "collapsed": false
   },
   "outputs": [],
   "source": [
    "\"\"\"\n",
    "DON'T MODIFY ANYTHING IN THIS CELL\n",
    "\"\"\"\n",
    "# Preprocess Training, Validation, and Testing Data\n",
    "helper.preprocess_and_save_data(cifar10_dataset_folder_path, normalize, one_hot_encode)"
   ]
  },
  {
   "cell_type": "markdown",
   "metadata": {},
   "source": [
    "# Check Point\n",
    "This is your first checkpoint.  If you ever decide to come back to this notebook or have to restart the notebook, you can start from here.  The preprocessed data has been saved to disk."
   ]
  },
  {
   "cell_type": "code",
   "execution_count": 6,
   "metadata": {
    "collapsed": true
   },
   "outputs": [],
   "source": [
    "\"\"\"\n",
    "DON'T MODIFY ANYTHING IN THIS CELL\n",
    "\"\"\"\n",
    "import pickle\n",
    "import problem_unittests as tests\n",
    "import helper\n",
    "\n",
    "# Load the Preprocessed Validation data\n",
    "valid_features, valid_labels = pickle.load(open('preprocess_validation.p', mode='rb'))"
   ]
  },
  {
   "cell_type": "markdown",
   "metadata": {},
   "source": [
    "## Build the network\n",
    "For the neural network, you'll build each layer into a function.  Most of the code you've seen has been outside of functions. To test your code more thoroughly, we require that you put each layer in a function.  This allows us to give you better feedback and test for simple mistakes using our unittests before you submit your project.\n",
    "\n",
    ">**Note:** If you're finding it hard to dedicate enough time for this course each week, we've provided a small shortcut to this part of the project. In the next couple of problems, you'll have the option to use classes from the [TensorFlow Layers](https://www.tensorflow.org/api_docs/python/tf/layers) or [TensorFlow Layers (contrib)](https://www.tensorflow.org/api_guides/python/contrib.layers) packages to build each layer, except the layers you build in the \"Convolutional and Max Pooling Layer\" section.  TF Layers is similar to Keras's and TFLearn's abstraction to layers, so it's easy to pickup.\n",
    "\n",
    ">However, if you would like to get the most out of this course, try to solve all the problems _without_ using anything from the TF Layers packages. You **can** still use classes from other packages that happen to have the same name as ones you find in TF Layers! For example, instead of using the TF Layers version of the `conv2d` class, [tf.layers.conv2d](https://www.tensorflow.org/api_docs/python/tf/layers/conv2d), you would want to use the TF Neural Network version of `conv2d`, [tf.nn.conv2d](https://www.tensorflow.org/api_docs/python/tf/nn/conv2d). \n",
    "\n",
    "Let's begin!\n",
    "\n",
    "### Input\n",
    "The neural network needs to read the image data, one-hot encoded labels, and dropout keep probability. Implement the following functions\n",
    "* Implement `neural_net_image_input`\n",
    " * Return a [TF Placeholder](https://www.tensorflow.org/api_docs/python/tf/placeholder)\n",
    " * Set the shape using `image_shape` with batch size set to `None`.\n",
    " * Name the TensorFlow placeholder \"x\" using the TensorFlow `name` parameter in the [TF Placeholder](https://www.tensorflow.org/api_docs/python/tf/placeholder).\n",
    "* Implement `neural_net_label_input`\n",
    " * Return a [TF Placeholder](https://www.tensorflow.org/api_docs/python/tf/placeholder)\n",
    " * Set the shape using `n_classes` with batch size set to `None`.\n",
    " * Name the TensorFlow placeholder \"y\" using the TensorFlow `name` parameter in the [TF Placeholder](https://www.tensorflow.org/api_docs/python/tf/placeholder).\n",
    "* Implement `neural_net_keep_prob_input`\n",
    " * Return a [TF Placeholder](https://www.tensorflow.org/api_docs/python/tf/placeholder) for dropout keep probability.\n",
    " * Name the TensorFlow placeholder \"keep_prob\" using the TensorFlow `name` parameter in the [TF Placeholder](https://www.tensorflow.org/api_docs/python/tf/placeholder).\n",
    "\n",
    "These names will be used at the end of the project to load your saved model.\n",
    "\n",
    "Note: `None` for shapes in TensorFlow allow for a dynamic size."
   ]
  },
  {
   "cell_type": "code",
   "execution_count": 7,
   "metadata": {
    "collapsed": false
   },
   "outputs": [
    {
     "name": "stdout",
     "output_type": "stream",
     "text": [
      "Image Input Tests Passed.\n",
      "Label Input Tests Passed.\n",
      "Keep Prob Tests Passed.\n"
     ]
    }
   ],
   "source": [
    "import tensorflow as tf\n",
    "\n",
    "def neural_net_image_input(image_shape):\n",
    "    \"\"\"\n",
    "    Return a Tensor for a batch of image input\n",
    "    : image_shape: Shape of the images\n",
    "    : return: Tensor for image input.\n",
    "    \"\"\"\n",
    "    # TODO: Implement Function\n",
    "    \n",
    "    image_width, image_height, color_channels = image_shape\n",
    "    x = tf.placeholder( tf.float32, shape=[None, image_width, image_height, color_channels], name='x')\n",
    "\n",
    "    return x\n",
    "\n",
    "\n",
    "\n",
    "def neural_net_label_input(n_classes):\n",
    "    \"\"\"\n",
    "    Return a Tensor for a batch of label input\n",
    "    : n_classes: Number of classes\n",
    "    : return: Tensor for label input.\n",
    "    \"\"\"\n",
    "    # TODO: Implement Function\n",
    "    y = tf.placeholder(tf.float32, shape=[None, n_classes], name='y')\n",
    "    \n",
    "    return y\n",
    "\n",
    "\n",
    "def neural_net_keep_prob_input():\n",
    "    \"\"\"\n",
    "    Return a Tensor for keep probability\n",
    "    : return: Tensor for keep probability.\n",
    "    \"\"\"\n",
    "    # TODO: Implement Function\n",
    "    keep_prob = tf.placeholder(tf.float32, name='keep_prob')\n",
    "    \n",
    "    return keep_prob\n",
    "\n",
    "\n",
    "\"\"\"\n",
    "DON'T MODIFY ANYTHING IN THIS CELL THAT IS BELOW THIS LINE\n",
    "\"\"\"\n",
    "tf.reset_default_graph()\n",
    "tests.test_nn_image_inputs(neural_net_image_input)\n",
    "tests.test_nn_label_inputs(neural_net_label_input)\n",
    "tests.test_nn_keep_prob_inputs(neural_net_keep_prob_input)"
   ]
  },
  {
   "cell_type": "markdown",
   "metadata": {},
   "source": [
    "### Convolution and Max Pooling Layer\n",
    "Convolution layers have a lot of success with images. For this code cell, you should implement the function `conv2d_maxpool` to apply convolution then max pooling:\n",
    "* Create the weight and bias using `conv_ksize`, `conv_num_outputs` and the shape of `x_tensor`.\n",
    "* Apply a convolution to `x_tensor` using weight and `conv_strides`.\n",
    " * We recommend you use same padding, but you're welcome to use any padding.\n",
    "* Add bias\n",
    "* Add a nonlinear activation to the convolution.\n",
    "* Apply Max Pooling using `pool_ksize` and `pool_strides`.\n",
    " * We recommend you use same padding, but you're welcome to use any padding.\n",
    "\n",
    "**Note:** You **can't** use [TensorFlow Layers](https://www.tensorflow.org/api_docs/python/tf/layers) or [TensorFlow Layers (contrib)](https://www.tensorflow.org/api_guides/python/contrib.layers) for **this** layer, but you can still use TensorFlow's [Neural Network](https://www.tensorflow.org/api_docs/python/tf/nn) package. You may still use the shortcut option for all the **other** layers."
   ]
  },
  {
   "cell_type": "code",
   "execution_count": 8,
   "metadata": {
    "collapsed": false
   },
   "outputs": [
    {
     "name": "stdout",
     "output_type": "stream",
     "text": [
      "Tests Passed\n"
     ]
    }
   ],
   "source": [
    "def conv2d_maxpool(x_tensor, conv_num_outputs, conv_ksize, conv_strides, pool_ksize, pool_strides):\n",
    "    \"\"\"\n",
    "    Apply convolution then max pooling to x_tensor\n",
    "    :param x_tensor: TensorFlow Tensor\n",
    "    :param conv_num_outputs: Number of outputs for the convolutional layer\n",
    "    :param conv_ksize: kernal size 2-D Tuple for the convolutional layer\n",
    "    :param conv_strides: Stride 2-D Tuple for convolution\n",
    "    :param pool_ksize: kernal size 2-D Tuple for pool\n",
    "    :param pool_strides: Stride 2-D Tuple for pool\n",
    "    : return: A tensor that represents convolution and max pooling of x_tensor\n",
    "    \"\"\"\n",
    "    # TODO: Implement Function\n",
    "    ## Create the weight and bias using conv_ksize, conv_num_outputs and the shape of x_tensor.\n",
    "    filter_size_width, filter_size_height = conv_ksize\n",
    "    color_channels = x_tensor.shape.as_list()[-1]\n",
    "\n",
    "    weight = tf.Variable(tf.truncated_normal(\n",
    "        [filter_size_width, filter_size_height, color_channels, conv_num_outputs], stddev=0.01)) \n",
    "    bias = tf.Variable(tf.zeros(conv_num_outputs))\n",
    "   \n",
    "    # Apply a convolution to x_tensor using weight and conv_strides.\n",
    "    a, b = conv_strides\n",
    "    full_conv_strides = [1, a, b, 1]\n",
    "    conv_layer = tf.nn.conv2d(x_tensor, weight, strides=full_conv_strides, padding='SAME')\n",
    "    \n",
    "    # Add bias\n",
    "    conv_layer = tf.nn.bias_add(conv_layer, bias)\n",
    "    \n",
    "    # Add a nonlinear activation to the convolution.\n",
    "    conv_layer = tf.nn.relu(conv_layer)\n",
    "    \n",
    "    # Apply Max Pooling using pool_ksize and pool_strides.\n",
    "    a, b = pool_strides\n",
    "    full_pool_strides = [1, a, b, 1]\n",
    "    a, b = pool_ksize\n",
    "    full_pool_ksize = [1, a, b, 1]\n",
    "    conv_pool = tf.nn.max_pool(conv_layer, ksize=full_pool_ksize, strides=full_pool_strides, padding='SAME')\n",
    " \n",
    "    return conv_pool\n",
    " \n",
    "\n",
    "\n",
    "\"\"\"\n",
    "DON'T MODIFY ANYTHING IN THIS CELL THAT IS BELOW THIS LINE\n",
    "\"\"\"\n",
    "tests.test_con_pool(conv2d_maxpool)"
   ]
  },
  {
   "cell_type": "markdown",
   "metadata": {},
   "source": [
    "### Flatten Layer\n",
    "Implement the `flatten` function to change the dimension of `x_tensor` from a 4-D tensor to a 2-D tensor.  The output should be the shape (*Batch Size*, *Flattened Image Size*). Shortcut option: you can use classes from the [TensorFlow Layers](https://www.tensorflow.org/api_docs/python/tf/layers) or [TensorFlow Layers (contrib)](https://www.tensorflow.org/api_guides/python/contrib.layers) packages for this layer. For more of a challenge, only use other TensorFlow packages."
   ]
  },
  {
   "cell_type": "code",
   "execution_count": 9,
   "metadata": {
    "collapsed": false
   },
   "outputs": [
    {
     "name": "stdout",
     "output_type": "stream",
     "text": [
      "Tests Passed\n"
     ]
    }
   ],
   "source": [
    "def flatten(x_tensor):\n",
    "    \"\"\"\n",
    "    Flatten x_tensor to (Batch Size, Flattened Image Size)\n",
    "    : x_tensor: A tensor of size (Batch Size, ...), where ... are the image dimensions.\n",
    "    : return: A tensor of size (Batch Size, Flattened Image Size).\n",
    "    \"\"\"\n",
    "    # TODO: Implement Function\n",
    "    origin_dim = x_tensor.shape.as_list()\n",
    "\n",
    "    flat_dim = np.prod(origin_dim[1:])\n",
    "    flat_shape = tf.reshape(x_tensor, [-1, flat_dim])\n",
    "    \n",
    "    return flat_shape\n",
    "\n",
    "\n",
    "\"\"\"\n",
    "DON'T MODIFY ANYTHING IN THIS CELL THAT IS BELOW THIS LINE\n",
    "\"\"\"\n",
    "tests.test_flatten(flatten)"
   ]
  },
  {
   "cell_type": "markdown",
   "metadata": {},
   "source": [
    "### Fully-Connected Layer\n",
    "Implement the `fully_conn` function to apply a fully connected layer to `x_tensor` with the shape (*Batch Size*, *num_outputs*). Shortcut option: you can use classes from the [TensorFlow Layers](https://www.tensorflow.org/api_docs/python/tf/layers) or [TensorFlow Layers (contrib)](https://www.tensorflow.org/api_guides/python/contrib.layers) packages for this layer. For more of a challenge, only use other TensorFlow packages."
   ]
  },
  {
   "cell_type": "code",
   "execution_count": 10,
   "metadata": {
    "collapsed": false
   },
   "outputs": [
    {
     "name": "stdout",
     "output_type": "stream",
     "text": [
      "Tests Passed\n"
     ]
    }
   ],
   "source": [
    "def fully_conn(x_tensor, num_outputs):\n",
    "    \"\"\"\n",
    "    Apply a fully connected layer to x_tensor using weight and bias\n",
    "    : x_tensor: A 2-D tensor where the first dimension is batch size.\n",
    "    : num_outputs: The number of output that the new tensor should be.\n",
    "    : return: A 2-D tensor where the second dimension is num_outputs.\n",
    "    \"\"\"\n",
    "    # TODO: Implement Function\n",
    "    \n",
    "    origin_dim = x_tensor.get_shape().as_list()\n",
    "    weight = tf.Variable(tf.truncated_normal([origin_dim[-1] ,num_outputs], stddev=0.01))\n",
    "    bias = tf.Variable(tf.zeros(num_outputs))\n",
    "    fully_tensor =  tf.nn.relu(tf.add(tf.matmul(x_tensor,weight), bias))\n",
    "    \n",
    "    return fully_tensor\n",
    "\n",
    "\n",
    "\"\"\"\n",
    "DON'T MODIFY ANYTHING IN THIS CELL THAT IS BELOW THIS LINE\n",
    "\"\"\"\n",
    "tests.test_fully_conn(fully_conn)"
   ]
  },
  {
   "cell_type": "markdown",
   "metadata": {},
   "source": [
    "### Output Layer\n",
    "Implement the `output` function to apply a fully connected layer to `x_tensor` with the shape (*Batch Size*, *num_outputs*). Shortcut option: you can use classes from the [TensorFlow Layers](https://www.tensorflow.org/api_docs/python/tf/layers) or [TensorFlow Layers (contrib)](https://www.tensorflow.org/api_guides/python/contrib.layers) packages for this layer. For more of a challenge, only use other TensorFlow packages.\n",
    "\n",
    "**Note:** Activation, softmax, or cross entropy should **not** be applied to this."
   ]
  },
  {
   "cell_type": "code",
   "execution_count": 11,
   "metadata": {
    "collapsed": false
   },
   "outputs": [
    {
     "name": "stdout",
     "output_type": "stream",
     "text": [
      "Tests Passed\n"
     ]
    }
   ],
   "source": [
    "def output(x_tensor, num_outputs):\n",
    "    \"\"\"\n",
    "    Apply a output layer to x_tensor using weight and bias\n",
    "    : x_tensor: A 2-D tensor where the first dimension is batch size.\n",
    "    : num_outputs: The number of output that the new tensor should be.\n",
    "    : return: A 2-D tensor where the second dimension is num_outputs.\n",
    "    \"\"\"\n",
    "    # TODO: Implement Function\n",
    "    origin_dim = x_tensor.get_shape().as_list()\n",
    "    weight = tf.Variable(tf.truncated_normal([origin_dim[-1] ,num_outputs], stddev=0.01))\n",
    "    bias = tf.Variable(tf.zeros(num_outputs))\n",
    "    output = tf.add(tf.matmul(x_tensor,weight), bias)\n",
    "    \n",
    "    return output\n",
    "\n",
    "\n",
    "\"\"\"\n",
    "DON'T MODIFY ANYTHING IN THIS CELL THAT IS BELOW THIS LINE\n",
    "\"\"\"\n",
    "tests.test_output(output)"
   ]
  },
  {
   "cell_type": "markdown",
   "metadata": {},
   "source": [
    "### Create Convolutional Model\n",
    "Implement the function `conv_net` to create a convolutional neural network model. The function takes in a batch of images, `x`, and outputs logits.  Use the layers you created above to create this model:\n",
    "\n",
    "* Apply 1, 2, or 3 Convolution and Max Pool layers\n",
    "* Apply a Flatten Layer\n",
    "* Apply 1, 2, or 3 Fully Connected Layers\n",
    "* Apply an Output Layer\n",
    "* Return the output\n",
    "* Apply [TensorFlow's Dropout](https://www.tensorflow.org/api_docs/python/tf/nn/dropout) to one or more layers in the model using `keep_prob`. "
   ]
  },
  {
   "cell_type": "code",
   "execution_count": 12,
   "metadata": {
    "collapsed": false
   },
   "outputs": [
    {
     "name": "stdout",
     "output_type": "stream",
     "text": [
      "Neural Network Built!\n"
     ]
    }
   ],
   "source": [
    "def conv_net(x, keep_prob):\n",
    "    \"\"\"\n",
    "    Create a convolutional neural network model\n",
    "    : x: Placeholder tensor that holds image data.\n",
    "    : keep_prob: Placeholder tensor that hold dropout keep probability.\n",
    "    : return: Tensor that represents logits\n",
    "    \"\"\"\n",
    "    # TODO: Apply 1, 2, or 3 Convolution and Max Pool layers\n",
    "    #    Play around with different number of outputs, kernel size and stride\n",
    "    # Function Definition from Above:\n",
    "    #    conv2d_maxpool(x_tensor, conv_num_outputs, conv_ksize, conv_strides, pool_ksize, pool_strides)\n",
    "    conv_num_outputs = 16\n",
    "    conv_ksize = (4,4)\n",
    "    conv_strides = (1,1)\n",
    "    pool_ksize = (4,4)\n",
    "    pool_strides = (1,1)\n",
    "    \n",
    "    model = conv2d_maxpool(x, conv_num_outputs, conv_ksize, conv_strides, pool_ksize, pool_strides)\n",
    "    model = tf.nn.dropout(model, keep_prob)\n",
    "    # TODO: Apply a Flatten Layer\n",
    "    # Function Definition from Above:\n",
    "    #   flatten(x_tensor)\n",
    "    model = flatten(model)\n",
    "\n",
    "    # TODO: Apply 1, 2, or 3 Fully Connected Layers\n",
    "    #    Play around with different number of outputs\n",
    "    # Function Definition from Above:\n",
    "    #   fully_conn(x_tensor, num_outputs)\n",
    "    model = fully_conn(model,100)\n",
    "    model = tf.nn.dropout(model, keep_prob)\n",
    "    ##model = tf.nn.dropout(model, keep_prob)\n",
    "    # TODO: Apply an Output Layer\n",
    "    #    Set this to the number of classes\n",
    "    # Function Definition from Above:\n",
    "    #   output(x_tensor, num_outputs)\n",
    "    model = output(model,10)\n",
    "    \n",
    "    # TODO: return output\n",
    "    return model\n",
    "\n",
    "\n",
    "\"\"\"\n",
    "DON'T MODIFY ANYTHING IN THIS CELL THAT IS BELOW THIS LINE\n",
    "\"\"\"\n",
    "\n",
    "##############################\n",
    "## Build the Neural Network ##\n",
    "##############################\n",
    "\n",
    "# Remove previous weights, bias, inputs, etc..\n",
    "tf.reset_default_graph()\n",
    "\n",
    "# Inputs\n",
    "x = neural_net_image_input((32, 32, 3))\n",
    "y = neural_net_label_input(10)\n",
    "keep_prob = neural_net_keep_prob_input()\n",
    "\n",
    "# Model\n",
    "logits = conv_net(x, keep_prob)\n",
    "\n",
    "# Name logits Tensor, so that is can be loaded from disk after training\n",
    "logits = tf.identity(logits, name='logits')\n",
    "\n",
    "# Loss and Optimizer\n",
    "cost = tf.reduce_mean(tf.nn.softmax_cross_entropy_with_logits(logits=logits, labels=y))\n",
    "optimizer = tf.train.AdamOptimizer().minimize(cost)\n",
    "\n",
    "# Accuracy\n",
    "correct_pred = tf.equal(tf.argmax(logits, 1), tf.argmax(y, 1))\n",
    "accuracy = tf.reduce_mean(tf.cast(correct_pred, tf.float32), name='accuracy')\n",
    "\n",
    "tests.test_conv_net(conv_net)"
   ]
  },
  {
   "cell_type": "markdown",
   "metadata": {},
   "source": [
    "## Train the Neural Network\n",
    "### Single Optimization\n",
    "Implement the function `train_neural_network` to do a single optimization.  The optimization should use `optimizer` to optimize in `session` with a `feed_dict` of the following:\n",
    "* `x` for image input\n",
    "* `y` for labels\n",
    "* `keep_prob` for keep probability for dropout\n",
    "\n",
    "This function will be called for each batch, so `tf.global_variables_initializer()` has already been called.\n",
    "\n",
    "Note: Nothing needs to be returned. This function is only optimizing the neural network."
   ]
  },
  {
   "cell_type": "code",
   "execution_count": 13,
   "metadata": {
    "collapsed": false
   },
   "outputs": [
    {
     "name": "stdout",
     "output_type": "stream",
     "text": [
      "Tests Passed\n"
     ]
    }
   ],
   "source": [
    "def train_neural_network(session, optimizer, keep_probability, feature_batch, label_batch):\n",
    "    \"\"\"\n",
    "    Optimize the session on a batch of images and labels\n",
    "    : session: Current TensorFlow session\n",
    "    : optimizer: TensorFlow optimizer function\n",
    "    : keep_probability: keep probability\n",
    "    : feature_batch: Batch of Numpy image data\n",
    "    : label_batch: Batch of Numpy label data\n",
    "    \"\"\"\n",
    "    # TODO: Implement Function\n",
    "    session.run(optimizer, feed_dict={x:feature_batch, y:label_batch, keep_prob:keep_probability})\n",
    "\n",
    "\n",
    "\n",
    "\"\"\"\n",
    "DON'T MODIFY ANYTHING IN THIS CELL THAT IS BELOW THIS LINE\n",
    "\"\"\"\n",
    "tests.test_train_nn(train_neural_network)"
   ]
  },
  {
   "cell_type": "markdown",
   "metadata": {},
   "source": [
    "### Show Stats\n",
    "Implement the function `print_stats` to print loss and validation accuracy.  Use the global variables `valid_features` and `valid_labels` to calculate validation accuracy.  Use a keep probability of `1.0` to calculate the loss and validation accuracy."
   ]
  },
  {
   "cell_type": "code",
   "execution_count": 14,
   "metadata": {
    "collapsed": false
   },
   "outputs": [],
   "source": [
    "def print_stats(session, feature_batch, label_batch, cost, accuracy):\n",
    "    \"\"\"\n",
    "    Print information about loss and validation accuracy\n",
    "    : session: Current TensorFlow session\n",
    "    : feature_batch: Batch of Numpy image data\n",
    "    : label_batch: Batch of Numpy label data\n",
    "    : cost: TensorFlow cost function\n",
    "    : accuracy: TensorFlow accuracy function\n",
    "    \"\"\"\n",
    "    # TODO: Implement Function\n",
    "    loss = sess.run(cost, feed_dict={x: feature_batch, y: label_batch, keep_prob: 1.0})\n",
    "    validation_accuracy = sess.run(accuracy, feed_dict={x: valid_features, y: valid_labels, keep_prob: 1.0})\n",
    "\n",
    "    print(\"loss: {}, validation_accuracy: {}\".format(loss, validation_accuracy))"
   ]
  },
  {
   "cell_type": "markdown",
   "metadata": {},
   "source": [
    "### Hyperparameters\n",
    "Tune the following parameters:\n",
    "* Set `epochs` to the number of iterations until the network stops learning or start overfitting\n",
    "* Set `batch_size` to the highest number that your machine has memory for.  Most people set them to common sizes of memory:\n",
    " * 64\n",
    " * 128\n",
    " * 256\n",
    " * ...\n",
    "* Set `keep_probability` to the probability of keeping a node using dropout"
   ]
  },
  {
   "cell_type": "code",
   "execution_count": 15,
   "metadata": {
    "collapsed": true
   },
   "outputs": [],
   "source": [
    "# TODO: Tune Parameters\n",
    "epochs = 50\n",
    "batch_size = 128\n",
    "keep_probability = 0.3"
   ]
  },
  {
   "cell_type": "markdown",
   "metadata": {},
   "source": [
    "### Train on a Single CIFAR-10 Batch\n",
    "Instead of training the neural network on all the CIFAR-10 batches of data, let's use a single batch. This should save time while you iterate on the model to get a better accuracy.  Once the final validation accuracy is 50% or greater, run the model on all the data in the next section."
   ]
  },
  {
   "cell_type": "code",
   "execution_count": 16,
   "metadata": {
    "collapsed": false
   },
   "outputs": [
    {
     "name": "stdout",
     "output_type": "stream",
     "text": [
      "Checking the Training on a Single Batch...\n",
      "Epoch  1, CIFAR-10 Batch 1:  loss: 2.1352455615997314, validation_accuracy: 0.29919999837875366\n",
      "Epoch  2, CIFAR-10 Batch 1:  loss: 2.0397770404815674, validation_accuracy: 0.37599998712539673\n",
      "Epoch  3, CIFAR-10 Batch 1:  loss: 1.9554622173309326, validation_accuracy: 0.3952000141143799\n",
      "Epoch  4, CIFAR-10 Batch 1:  loss: 1.9011344909667969, validation_accuracy: 0.39800000190734863\n",
      "Epoch  5, CIFAR-10 Batch 1:  loss: 1.8525012731552124, validation_accuracy: 0.4007999897003174\n",
      "Epoch  6, CIFAR-10 Batch 1:  loss: 1.7964820861816406, validation_accuracy: 0.42320001125335693\n",
      "Epoch  7, CIFAR-10 Batch 1:  loss: 1.808314561843872, validation_accuracy: 0.4065999984741211\n",
      "Epoch  8, CIFAR-10 Batch 1:  loss: 1.7134296894073486, validation_accuracy: 0.44440001249313354\n",
      "Epoch  9, CIFAR-10 Batch 1:  loss: 1.7021820545196533, validation_accuracy: 0.4357999861240387\n",
      "Epoch 10, CIFAR-10 Batch 1:  loss: 1.6606786251068115, validation_accuracy: 0.448199987411499\n",
      "Epoch 11, CIFAR-10 Batch 1:  loss: 1.6198784112930298, validation_accuracy: 0.4643999934196472\n",
      "Epoch 12, CIFAR-10 Batch 1:  loss: 1.578953742980957, validation_accuracy: 0.46399998664855957\n",
      "Epoch 13, CIFAR-10 Batch 1:  loss: 1.5312674045562744, validation_accuracy: 0.45660001039505005\n",
      "Epoch 14, CIFAR-10 Batch 1:  loss: 1.5150926113128662, validation_accuracy: 0.4733999967575073\n",
      "Epoch 15, CIFAR-10 Batch 1:  loss: 1.4940764904022217, validation_accuracy: 0.4821999967098236\n",
      "Epoch 16, CIFAR-10 Batch 1:  loss: 1.4940141439437866, validation_accuracy: 0.49000000953674316\n",
      "Epoch 17, CIFAR-10 Batch 1:  loss: 1.3949081897735596, validation_accuracy: 0.4867999851703644\n",
      "Epoch 18, CIFAR-10 Batch 1:  loss: 1.3412188291549683, validation_accuracy: 0.4927999973297119\n",
      "Epoch 19, CIFAR-10 Batch 1:  loss: 1.3276054859161377, validation_accuracy: 0.4973999857902527\n",
      "Epoch 20, CIFAR-10 Batch 1:  loss: 1.3065416812896729, validation_accuracy: 0.4986000061035156\n",
      "Epoch 21, CIFAR-10 Batch 1:  loss: 1.264997959136963, validation_accuracy: 0.5\n",
      "Epoch 22, CIFAR-10 Batch 1:  loss: 1.2437336444854736, validation_accuracy: 0.48980000615119934\n",
      "Epoch 23, CIFAR-10 Batch 1:  loss: 1.2561899423599243, validation_accuracy: 0.5067999958992004\n",
      "Epoch 24, CIFAR-10 Batch 1:  loss: 1.2571508884429932, validation_accuracy: 0.5098000168800354\n",
      "Epoch 25, CIFAR-10 Batch 1:  loss: 1.2282747030258179, validation_accuracy: 0.5062000155448914\n",
      "Epoch 26, CIFAR-10 Batch 1:  loss: 1.2328063249588013, validation_accuracy: 0.5013999938964844\n",
      "Epoch 27, CIFAR-10 Batch 1:  loss: 1.2384347915649414, validation_accuracy: 0.5135999917984009\n",
      "Epoch 28, CIFAR-10 Batch 1:  loss: 1.1664843559265137, validation_accuracy: 0.510200023651123\n",
      "Epoch 29, CIFAR-10 Batch 1:  loss: 1.155076265335083, validation_accuracy: 0.5067999958992004\n",
      "Epoch 30, CIFAR-10 Batch 1:  loss: 1.1678757667541504, validation_accuracy: 0.5113999843597412\n",
      "Epoch 31, CIFAR-10 Batch 1:  loss: 1.1483548879623413, validation_accuracy: 0.5152000188827515\n",
      "Epoch 32, CIFAR-10 Batch 1:  loss: 1.1151316165924072, validation_accuracy: 0.5144000053405762\n",
      "Epoch 33, CIFAR-10 Batch 1:  loss: 1.1660680770874023, validation_accuracy: 0.5063999891281128\n",
      "Epoch 34, CIFAR-10 Batch 1:  loss: 1.1372859477996826, validation_accuracy: 0.5067999958992004\n",
      "Epoch 35, CIFAR-10 Batch 1:  loss: 1.1100736856460571, validation_accuracy: 0.5175999999046326\n",
      "Epoch 36, CIFAR-10 Batch 1:  loss: 1.074420690536499, validation_accuracy: 0.5202000141143799\n",
      "Epoch 37, CIFAR-10 Batch 1:  loss: 1.0978078842163086, validation_accuracy: 0.5127999782562256\n",
      "Epoch 38, CIFAR-10 Batch 1:  loss: 1.05799400806427, validation_accuracy: 0.5163999795913696\n",
      "Epoch 39, CIFAR-10 Batch 1:  loss: 1.047369360923767, validation_accuracy: 0.52920001745224\n",
      "Epoch 40, CIFAR-10 Batch 1:  loss: 1.0273151397705078, validation_accuracy: 0.5230000019073486\n",
      "Epoch 41, CIFAR-10 Batch 1:  loss: 0.9941322207450867, validation_accuracy: 0.5275999903678894\n",
      "Epoch 42, CIFAR-10 Batch 1:  loss: 1.0103973150253296, validation_accuracy: 0.5260000228881836\n",
      "Epoch 43, CIFAR-10 Batch 1:  loss: 0.9817411303520203, validation_accuracy: 0.532800018787384\n",
      "Epoch 44, CIFAR-10 Batch 1:  loss: 1.012952446937561, validation_accuracy: 0.5188000202178955\n",
      "Epoch 45, CIFAR-10 Batch 1:  loss: 1.0131030082702637, validation_accuracy: 0.5246000289916992\n",
      "Epoch 46, CIFAR-10 Batch 1:  loss: 0.9991971850395203, validation_accuracy: 0.5364000201225281\n",
      "Epoch 47, CIFAR-10 Batch 1:  loss: 0.9730623364448547, validation_accuracy: 0.5307999849319458\n",
      "Epoch 48, CIFAR-10 Batch 1:  loss: 0.9444804191589355, validation_accuracy: 0.5314000248908997\n",
      "Epoch 49, CIFAR-10 Batch 1:  loss: 0.942183792591095, validation_accuracy: 0.5242000222206116\n",
      "Epoch 50, CIFAR-10 Batch 1:  loss: 0.9365469217300415, validation_accuracy: 0.5275999903678894\n"
     ]
    }
   ],
   "source": [
    "\"\"\"\n",
    "DON'T MODIFY ANYTHING IN THIS CELL\n",
    "\"\"\"\n",
    "print('Checking the Training on a Single Batch...')\n",
    "with tf.Session() as sess:\n",
    "    # Initializing the variables\n",
    "    sess.run(tf.global_variables_initializer())\n",
    "    \n",
    "    # Training cycle\n",
    "    for epoch in range(epochs):\n",
    "        batch_i = 1\n",
    "        for batch_features, batch_labels in helper.load_preprocess_training_batch(batch_i, batch_size):\n",
    "            train_neural_network(sess, optimizer, keep_probability, batch_features, batch_labels)\n",
    "        print('Epoch {:>2}, CIFAR-10 Batch {}:  '.format(epoch + 1, batch_i), end='')\n",
    "        print_stats(sess, batch_features, batch_labels, cost, accuracy)"
   ]
  },
  {
   "cell_type": "markdown",
   "metadata": {},
   "source": [
    "### Fully Train the Model\n",
    "Now that you got a good accuracy with a single CIFAR-10 batch, try it with all five batches."
   ]
  },
  {
   "cell_type": "code",
   "execution_count": 17,
   "metadata": {
    "collapsed": false
   },
   "outputs": [
    {
     "name": "stdout",
     "output_type": "stream",
     "text": [
      "Training...\n",
      "Epoch  1, CIFAR-10 Batch 1:  loss: 2.133197784423828, validation_accuracy: 0.2831999957561493\n",
      "Epoch  1, CIFAR-10 Batch 2:  loss: 1.8374656438827515, validation_accuracy: 0.36239999532699585\n",
      "Epoch  1, CIFAR-10 Batch 3:  loss: 1.626371145248413, validation_accuracy: 0.39239999651908875\n",
      "Epoch  1, CIFAR-10 Batch 4:  loss: 1.710846185684204, validation_accuracy: 0.42239999771118164\n",
      "Epoch  1, CIFAR-10 Batch 5:  loss: 1.6513774394989014, validation_accuracy: 0.4253999888896942\n",
      "Epoch  2, CIFAR-10 Batch 1:  loss: 1.894995927810669, validation_accuracy: 0.4429999887943268\n",
      "Epoch  2, CIFAR-10 Batch 2:  loss: 1.5801105499267578, validation_accuracy: 0.4562000036239624\n",
      "Epoch  2, CIFAR-10 Batch 3:  loss: 1.392740249633789, validation_accuracy: 0.45080000162124634\n",
      "Epoch  2, CIFAR-10 Batch 4:  loss: 1.5909417867660522, validation_accuracy: 0.4717999994754791\n",
      "Epoch  2, CIFAR-10 Batch 5:  loss: 1.523283839225769, validation_accuracy: 0.4562000036239624\n",
      "Epoch  3, CIFAR-10 Batch 1:  loss: 1.7091007232666016, validation_accuracy: 0.48159998655319214\n",
      "Epoch  3, CIFAR-10 Batch 2:  loss: 1.523319125175476, validation_accuracy: 0.4828000068664551\n",
      "Epoch  3, CIFAR-10 Batch 3:  loss: 1.3758742809295654, validation_accuracy: 0.44699999690055847\n",
      "Epoch  3, CIFAR-10 Batch 4:  loss: 1.5105564594268799, validation_accuracy: 0.4896000027656555\n",
      "Epoch  3, CIFAR-10 Batch 5:  loss: 1.438759446144104, validation_accuracy: 0.48840001225471497\n",
      "Epoch  4, CIFAR-10 Batch 1:  loss: 1.6249592304229736, validation_accuracy: 0.49939998984336853\n",
      "Epoch  4, CIFAR-10 Batch 2:  loss: 1.436560034751892, validation_accuracy: 0.49799999594688416\n",
      "Epoch  4, CIFAR-10 Batch 3:  loss: 1.280515432357788, validation_accuracy: 0.4765999913215637\n",
      "Epoch  4, CIFAR-10 Batch 4:  loss: 1.4444090127944946, validation_accuracy: 0.49140000343322754\n",
      "Epoch  4, CIFAR-10 Batch 5:  loss: 1.4120413064956665, validation_accuracy: 0.5073999762535095\n",
      "Epoch  5, CIFAR-10 Batch 1:  loss: 1.553956389427185, validation_accuracy: 0.5170000195503235\n",
      "Epoch  5, CIFAR-10 Batch 2:  loss: 1.3882334232330322, validation_accuracy: 0.5004000067710876\n",
      "Epoch  5, CIFAR-10 Batch 3:  loss: 1.1785123348236084, validation_accuracy: 0.5108000040054321\n",
      "Epoch  5, CIFAR-10 Batch 4:  loss: 1.3603132963180542, validation_accuracy: 0.5130000114440918\n",
      "Epoch  5, CIFAR-10 Batch 5:  loss: 1.4034898281097412, validation_accuracy: 0.5109999775886536\n",
      "Epoch  6, CIFAR-10 Batch 1:  loss: 1.4892116785049438, validation_accuracy: 0.5203999876976013\n",
      "Epoch  6, CIFAR-10 Batch 2:  loss: 1.3205865621566772, validation_accuracy: 0.5194000005722046\n",
      "Epoch  6, CIFAR-10 Batch 3:  loss: 1.165931224822998, validation_accuracy: 0.5027999877929688\n",
      "Epoch  6, CIFAR-10 Batch 4:  loss: 1.402083396911621, validation_accuracy: 0.5202000141143799\n",
      "Epoch  6, CIFAR-10 Batch 5:  loss: 1.3900717496871948, validation_accuracy: 0.5153999924659729\n",
      "Epoch  7, CIFAR-10 Batch 1:  loss: 1.4681861400604248, validation_accuracy: 0.5246000289916992\n",
      "Epoch  7, CIFAR-10 Batch 2:  loss: 1.2984319925308228, validation_accuracy: 0.5311999917030334\n",
      "Epoch  7, CIFAR-10 Batch 3:  loss: 1.1657861471176147, validation_accuracy: 0.520799994468689\n",
      "Epoch  7, CIFAR-10 Batch 4:  loss: 1.3617388010025024, validation_accuracy: 0.5198000073432922\n",
      "Epoch  7, CIFAR-10 Batch 5:  loss: 1.3790147304534912, validation_accuracy: 0.5138000249862671\n",
      "Epoch  8, CIFAR-10 Batch 1:  loss: 1.3944127559661865, validation_accuracy: 0.5370000004768372\n",
      "Epoch  8, CIFAR-10 Batch 2:  loss: 1.2739206552505493, validation_accuracy: 0.5357999801635742\n",
      "Epoch  8, CIFAR-10 Batch 3:  loss: 1.1399586200714111, validation_accuracy: 0.5238000154495239\n",
      "Epoch  8, CIFAR-10 Batch 4:  loss: 1.3561140298843384, validation_accuracy: 0.5281999707221985\n",
      "Epoch  8, CIFAR-10 Batch 5:  loss: 1.2912803888320923, validation_accuracy: 0.5393999814987183\n",
      "Epoch  9, CIFAR-10 Batch 1:  loss: 1.401680827140808, validation_accuracy: 0.5404000282287598\n",
      "Epoch  9, CIFAR-10 Batch 2:  loss: 1.19162118434906, validation_accuracy: 0.5437999963760376\n",
      "Epoch  9, CIFAR-10 Batch 3:  loss: 1.0955750942230225, validation_accuracy: 0.5307999849319458\n",
      "Epoch  9, CIFAR-10 Batch 4:  loss: 1.2695491313934326, validation_accuracy: 0.5317999720573425\n",
      "Epoch  9, CIFAR-10 Batch 5:  loss: 1.3280762434005737, validation_accuracy: 0.5335999727249146\n",
      "Epoch 10, CIFAR-10 Batch 1:  loss: 1.3427455425262451, validation_accuracy: 0.5490000247955322\n",
      "Epoch 10, CIFAR-10 Batch 2:  loss: 1.2125523090362549, validation_accuracy: 0.534600019454956\n",
      "Epoch 10, CIFAR-10 Batch 3:  loss: 1.0793441534042358, validation_accuracy: 0.5257999897003174\n",
      "Epoch 10, CIFAR-10 Batch 4:  loss: 1.255347728729248, validation_accuracy: 0.5343999862670898\n",
      "Epoch 10, CIFAR-10 Batch 5:  loss: 1.284481167793274, validation_accuracy: 0.54339998960495\n",
      "Epoch 11, CIFAR-10 Batch 1:  loss: 1.3060797452926636, validation_accuracy: 0.553600013256073\n",
      "Epoch 11, CIFAR-10 Batch 2:  loss: 1.171341896057129, validation_accuracy: 0.5547999739646912\n",
      "Epoch 11, CIFAR-10 Batch 3:  loss: 1.078863501548767, validation_accuracy: 0.5400000214576721\n",
      "Epoch 11, CIFAR-10 Batch 4:  loss: 1.220184564590454, validation_accuracy: 0.5428000092506409\n",
      "Epoch 11, CIFAR-10 Batch 5:  loss: 1.2456960678100586, validation_accuracy: 0.5544000267982483\n",
      "Epoch 12, CIFAR-10 Batch 1:  loss: 1.351669430732727, validation_accuracy: 0.5425999760627747\n",
      "Epoch 12, CIFAR-10 Batch 2:  loss: 1.1421482563018799, validation_accuracy: 0.546999990940094\n",
      "Epoch 12, CIFAR-10 Batch 3:  loss: 1.0604034662246704, validation_accuracy: 0.5497999787330627\n",
      "Epoch 12, CIFAR-10 Batch 4:  loss: 1.231642246246338, validation_accuracy: 0.5504000186920166\n",
      "Epoch 12, CIFAR-10 Batch 5:  loss: 1.2926982641220093, validation_accuracy: 0.5419999957084656\n",
      "Epoch 13, CIFAR-10 Batch 1:  loss: 1.372408390045166, validation_accuracy: 0.5527999997138977\n",
      "Epoch 13, CIFAR-10 Batch 2:  loss: 1.140457272529602, validation_accuracy: 0.5612000226974487\n",
      "Epoch 13, CIFAR-10 Batch 3:  loss: 1.05997633934021, validation_accuracy: 0.5576000213623047\n",
      "Epoch 13, CIFAR-10 Batch 4:  loss: 1.22902512550354, validation_accuracy: 0.5636000037193298\n",
      "Epoch 13, CIFAR-10 Batch 5:  loss: 1.2042827606201172, validation_accuracy: 0.5565999746322632\n",
      "Epoch 14, CIFAR-10 Batch 1:  loss: 1.3305623531341553, validation_accuracy: 0.5735999941825867\n",
      "Epoch 14, CIFAR-10 Batch 2:  loss: 1.14104163646698, validation_accuracy: 0.5522000193595886\n",
      "Epoch 14, CIFAR-10 Batch 3:  loss: 1.0380094051361084, validation_accuracy: 0.5590000152587891\n",
      "Epoch 14, CIFAR-10 Batch 4:  loss: 1.2248185873031616, validation_accuracy: 0.5580000281333923\n",
      "Epoch 14, CIFAR-10 Batch 5:  loss: 1.187453031539917, validation_accuracy: 0.5577999949455261\n",
      "Epoch 15, CIFAR-10 Batch 1:  loss: 1.2833588123321533, validation_accuracy: 0.5676000118255615\n",
      "Epoch 15, CIFAR-10 Batch 2:  loss: 1.1166155338287354, validation_accuracy: 0.5667999982833862\n",
      "Epoch 15, CIFAR-10 Batch 3:  loss: 1.0093390941619873, validation_accuracy: 0.5565999746322632\n",
      "Epoch 15, CIFAR-10 Batch 4:  loss: 1.2032848596572876, validation_accuracy: 0.5687999725341797\n",
      "Epoch 15, CIFAR-10 Batch 5:  loss: 1.2051068544387817, validation_accuracy: 0.5493999719619751\n",
      "Epoch 16, CIFAR-10 Batch 1:  loss: 1.3002506494522095, validation_accuracy: 0.574999988079071\n",
      "Epoch 16, CIFAR-10 Batch 2:  loss: 1.09084951877594, validation_accuracy: 0.5666000247001648\n",
      "Epoch 16, CIFAR-10 Batch 3:  loss: 1.0631115436553955, validation_accuracy: 0.5609999895095825\n",
      "Epoch 16, CIFAR-10 Batch 4:  loss: 1.2367838621139526, validation_accuracy: 0.5662000179290771\n",
      "Epoch 16, CIFAR-10 Batch 5:  loss: 1.1203744411468506, validation_accuracy: 0.5720000267028809\n",
      "Epoch 17, CIFAR-10 Batch 1:  loss: 1.2243921756744385, validation_accuracy: 0.5716000199317932\n",
      "Epoch 17, CIFAR-10 Batch 2:  loss: 1.078369140625, validation_accuracy: 0.5702000260353088\n",
      "Epoch 17, CIFAR-10 Batch 3:  loss: 1.0699495077133179, validation_accuracy: 0.5582000017166138\n",
      "Epoch 17, CIFAR-10 Batch 4:  loss: 1.1777218580245972, validation_accuracy: 0.574999988079071\n",
      "Epoch 17, CIFAR-10 Batch 5:  loss: 1.0927374362945557, validation_accuracy: 0.5631999969482422\n",
      "Epoch 18, CIFAR-10 Batch 1:  loss: 1.2537959814071655, validation_accuracy: 0.5748000144958496\n",
      "Epoch 18, CIFAR-10 Batch 2:  loss: 1.0831632614135742, validation_accuracy: 0.5699999928474426\n",
      "Epoch 18, CIFAR-10 Batch 3:  loss: 0.9914061427116394, validation_accuracy: 0.5758000016212463\n",
      "Epoch 18, CIFAR-10 Batch 4:  loss: 1.19325852394104, validation_accuracy: 0.5672000050544739\n",
      "Epoch 18, CIFAR-10 Batch 5:  loss: 1.1272881031036377, validation_accuracy: 0.5691999793052673\n",
      "Epoch 19, CIFAR-10 Batch 1:  loss: 1.28706955909729, validation_accuracy: 0.5684000253677368\n",
      "Epoch 19, CIFAR-10 Batch 2:  loss: 1.0578930377960205, validation_accuracy: 0.5726000070571899\n",
      "Epoch 19, CIFAR-10 Batch 3:  loss: 1.0343390703201294, validation_accuracy: 0.5752000212669373\n",
      "Epoch 19, CIFAR-10 Batch 4:  loss: 1.1439692974090576, validation_accuracy: 0.5839999914169312\n",
      "Epoch 19, CIFAR-10 Batch 5:  loss: 1.0964012145996094, validation_accuracy: 0.5722000002861023\n",
      "Epoch 20, CIFAR-10 Batch 1:  loss: 1.1932001113891602, validation_accuracy: 0.5698000192642212\n",
      "Epoch 20, CIFAR-10 Batch 2:  loss: 1.0490338802337646, validation_accuracy: 0.5799999833106995\n",
      "Epoch 20, CIFAR-10 Batch 3:  loss: 1.0239477157592773, validation_accuracy: 0.5667999982833862\n",
      "Epoch 20, CIFAR-10 Batch 4:  loss: 1.1480401754379272, validation_accuracy: 0.579200029373169\n",
      "Epoch 20, CIFAR-10 Batch 5:  loss: 1.0445512533187866, validation_accuracy: 0.5771999955177307\n",
      "Epoch 21, CIFAR-10 Batch 1:  loss: 1.186722993850708, validation_accuracy: 0.5738000273704529\n",
      "Epoch 21, CIFAR-10 Batch 2:  loss: 1.038938283920288, validation_accuracy: 0.5809999704360962\n",
      "Epoch 21, CIFAR-10 Batch 3:  loss: 0.9998102188110352, validation_accuracy: 0.5641999840736389\n",
      "Epoch 21, CIFAR-10 Batch 4:  loss: 1.1091601848602295, validation_accuracy: 0.5802000164985657\n",
      "Epoch 21, CIFAR-10 Batch 5:  loss: 1.1294289827346802, validation_accuracy: 0.5527999997138977\n",
      "Epoch 22, CIFAR-10 Batch 1:  loss: 1.1636762619018555, validation_accuracy: 0.592199981212616\n",
      "Epoch 22, CIFAR-10 Batch 2:  loss: 1.0590312480926514, validation_accuracy: 0.5916000008583069\n",
      "Epoch 22, CIFAR-10 Batch 3:  loss: 0.9867391586303711, validation_accuracy: 0.5820000171661377\n",
      "Epoch 22, CIFAR-10 Batch 4:  loss: 1.1232993602752686, validation_accuracy: 0.5888000130653381\n",
      "Epoch 22, CIFAR-10 Batch 5:  loss: 1.0432665348052979, validation_accuracy: 0.5830000042915344\n",
      "Epoch 23, CIFAR-10 Batch 1:  loss: 1.1383037567138672, validation_accuracy: 0.5892000198364258\n",
      "Epoch 23, CIFAR-10 Batch 2:  loss: 1.00411057472229, validation_accuracy: 0.579800009727478\n",
      "Epoch 23, CIFAR-10 Batch 3:  loss: 0.9678688049316406, validation_accuracy: 0.5806000232696533\n",
      "Epoch 23, CIFAR-10 Batch 4:  loss: 1.0948156118392944, validation_accuracy: 0.5874000191688538\n",
      "Epoch 23, CIFAR-10 Batch 5:  loss: 1.0722568035125732, validation_accuracy: 0.5774000287055969\n",
      "Epoch 24, CIFAR-10 Batch 1:  loss: 1.1579594612121582, validation_accuracy: 0.5885999798774719\n",
      "Epoch 24, CIFAR-10 Batch 2:  loss: 1.0298480987548828, validation_accuracy: 0.5870000123977661\n",
      "Epoch 24, CIFAR-10 Batch 3:  loss: 0.9715806245803833, validation_accuracy: 0.5893999934196472\n",
      "Epoch 24, CIFAR-10 Batch 4:  loss: 1.0951405763626099, validation_accuracy: 0.5938000082969666\n",
      "Epoch 24, CIFAR-10 Batch 5:  loss: 1.0220140218734741, validation_accuracy: 0.5875999927520752\n",
      "Epoch 25, CIFAR-10 Batch 1:  loss: 1.1390583515167236, validation_accuracy: 0.5907999873161316\n",
      "Epoch 25, CIFAR-10 Batch 2:  loss: 1.009941816329956, validation_accuracy: 0.5884000062942505\n",
      "Epoch 25, CIFAR-10 Batch 3:  loss: 1.0621694326400757, validation_accuracy: 0.5626000165939331\n",
      "Epoch 25, CIFAR-10 Batch 4:  loss: 1.0774967670440674, validation_accuracy: 0.5863999724388123\n",
      "Epoch 25, CIFAR-10 Batch 5:  loss: 1.0403037071228027, validation_accuracy: 0.5938000082969666\n",
      "Epoch 26, CIFAR-10 Batch 1:  loss: 1.1554639339447021, validation_accuracy: 0.5885999798774719\n",
      "Epoch 26, CIFAR-10 Batch 2:  loss: 0.9589391946792603, validation_accuracy: 0.5659999847412109\n",
      "Epoch 26, CIFAR-10 Batch 3:  loss: 0.991618275642395, validation_accuracy: 0.5789999961853027\n",
      "Epoch 26, CIFAR-10 Batch 4:  loss: 1.0621286630630493, validation_accuracy: 0.5916000008583069\n",
      "Epoch 26, CIFAR-10 Batch 5:  loss: 1.0396661758422852, validation_accuracy: 0.5932000279426575\n",
      "Epoch 27, CIFAR-10 Batch 1:  loss: 1.1467182636260986, validation_accuracy: 0.5968000292778015\n",
      "Epoch 27, CIFAR-10 Batch 2:  loss: 1.0095431804656982, validation_accuracy: 0.5866000056266785\n",
      "Epoch 27, CIFAR-10 Batch 3:  loss: 1.0184139013290405, validation_accuracy: 0.5857999920845032\n",
      "Epoch 27, CIFAR-10 Batch 4:  loss: 1.0862815380096436, validation_accuracy: 0.5874000191688538\n",
      "Epoch 27, CIFAR-10 Batch 5:  loss: 1.0166337490081787, validation_accuracy: 0.5978000164031982\n",
      "Epoch 28, CIFAR-10 Batch 1:  loss: 1.1075488328933716, validation_accuracy: 0.5861999988555908\n",
      "Epoch 28, CIFAR-10 Batch 2:  loss: 1.070810317993164, validation_accuracy: 0.59579998254776\n",
      "Epoch 28, CIFAR-10 Batch 3:  loss: 0.9717599749565125, validation_accuracy: 0.590399980545044\n",
      "Epoch 28, CIFAR-10 Batch 4:  loss: 1.0440130233764648, validation_accuracy: 0.5960000157356262\n",
      "Epoch 28, CIFAR-10 Batch 5:  loss: 1.0262558460235596, validation_accuracy: 0.5928000211715698\n",
      "Epoch 29, CIFAR-10 Batch 1:  loss: 1.1311334371566772, validation_accuracy: 0.5953999757766724\n",
      "Epoch 29, CIFAR-10 Batch 2:  loss: 0.9877268075942993, validation_accuracy: 0.5968000292778015\n",
      "Epoch 29, CIFAR-10 Batch 3:  loss: 0.9675989151000977, validation_accuracy: 0.59579998254776\n",
      "Epoch 29, CIFAR-10 Batch 4:  loss: 1.038759469985962, validation_accuracy: 0.5961999893188477\n",
      "Epoch 29, CIFAR-10 Batch 5:  loss: 0.9855230450630188, validation_accuracy: 0.5924000144004822\n",
      "Epoch 30, CIFAR-10 Batch 1:  loss: 1.061354637145996, validation_accuracy: 0.6010000109672546\n",
      "Epoch 30, CIFAR-10 Batch 2:  loss: 1.010894775390625, validation_accuracy: 0.5942000150680542\n",
      "Epoch 30, CIFAR-10 Batch 3:  loss: 0.9692354202270508, validation_accuracy: 0.5943999886512756\n",
      "Epoch 30, CIFAR-10 Batch 4:  loss: 1.0589675903320312, validation_accuracy: 0.602400004863739\n",
      "Epoch 30, CIFAR-10 Batch 5:  loss: 1.0254806280136108, validation_accuracy: 0.598800003528595\n",
      "Epoch 31, CIFAR-10 Batch 1:  loss: 1.0589653253555298, validation_accuracy: 0.6001999974250793\n",
      "Epoch 31, CIFAR-10 Batch 2:  loss: 0.9756960868835449, validation_accuracy: 0.599399983882904\n",
      "Epoch 31, CIFAR-10 Batch 3:  loss: 0.9792588353157043, validation_accuracy: 0.5910000205039978\n",
      "Epoch 31, CIFAR-10 Batch 4:  loss: 1.0559064149856567, validation_accuracy: 0.599399983882904\n",
      "Epoch 31, CIFAR-10 Batch 5:  loss: 0.9780504107475281, validation_accuracy: 0.5946000218391418\n",
      "Epoch 32, CIFAR-10 Batch 1:  loss: 1.08078134059906, validation_accuracy: 0.600600004196167\n",
      "Epoch 32, CIFAR-10 Batch 2:  loss: 0.9534236192703247, validation_accuracy: 0.5989999771118164\n",
      "Epoch 32, CIFAR-10 Batch 3:  loss: 0.9606212377548218, validation_accuracy: 0.6003999710083008\n",
      "Epoch 32, CIFAR-10 Batch 4:  loss: 1.0378023386001587, validation_accuracy: 0.5956000089645386\n",
      "Epoch 32, CIFAR-10 Batch 5:  loss: 0.9871475100517273, validation_accuracy: 0.5952000021934509\n",
      "Epoch 33, CIFAR-10 Batch 1:  loss: 1.065041184425354, validation_accuracy: 0.5983999967575073\n",
      "Epoch 33, CIFAR-10 Batch 2:  loss: 0.9541527628898621, validation_accuracy: 0.5946000218391418\n",
      "Epoch 33, CIFAR-10 Batch 3:  loss: 0.9778398275375366, validation_accuracy: 0.602400004863739\n",
      "Epoch 33, CIFAR-10 Batch 4:  loss: 1.025994896888733, validation_accuracy: 0.6079999804496765\n",
      "Epoch 33, CIFAR-10 Batch 5:  loss: 0.9827930331230164, validation_accuracy: 0.6021999716758728\n",
      "Epoch 34, CIFAR-10 Batch 1:  loss: 1.0744171142578125, validation_accuracy: 0.5964000225067139\n",
      "Epoch 34, CIFAR-10 Batch 2:  loss: 0.9787996411323547, validation_accuracy: 0.6014000177383423\n",
      "Epoch 34, CIFAR-10 Batch 3:  loss: 0.962460994720459, validation_accuracy: 0.6010000109672546\n",
      "Epoch 34, CIFAR-10 Batch 4:  loss: 1.0163040161132812, validation_accuracy: 0.6061999797821045\n",
      "Epoch 34, CIFAR-10 Batch 5:  loss: 0.9780833125114441, validation_accuracy: 0.5946000218391418\n",
      "Epoch 35, CIFAR-10 Batch 1:  loss: 1.0494763851165771, validation_accuracy: 0.6068000197410583\n",
      "Epoch 35, CIFAR-10 Batch 2:  loss: 0.9220102429389954, validation_accuracy: 0.6105999946594238\n",
      "Epoch 35, CIFAR-10 Batch 3:  loss: 0.9800115823745728, validation_accuracy: 0.5896000266075134\n",
      "Epoch 35, CIFAR-10 Batch 4:  loss: 1.0305814743041992, validation_accuracy: 0.6069999933242798\n",
      "Epoch 35, CIFAR-10 Batch 5:  loss: 0.9723929166793823, validation_accuracy: 0.5947999954223633\n",
      "Epoch 36, CIFAR-10 Batch 1:  loss: 1.0777887105941772, validation_accuracy: 0.6007999777793884\n",
      "Epoch 36, CIFAR-10 Batch 2:  loss: 0.9128999710083008, validation_accuracy: 0.6061999797821045\n",
      "Epoch 36, CIFAR-10 Batch 3:  loss: 0.9803617596626282, validation_accuracy: 0.61080002784729\n",
      "Epoch 36, CIFAR-10 Batch 4:  loss: 1.0509147644042969, validation_accuracy: 0.6110000014305115\n",
      "Epoch 36, CIFAR-10 Batch 5:  loss: 0.994927704334259, validation_accuracy: 0.6011999845504761\n",
      "Epoch 37, CIFAR-10 Batch 1:  loss: 1.049815058708191, validation_accuracy: 0.6118000149726868\n",
      "Epoch 37, CIFAR-10 Batch 2:  loss: 0.9348901510238647, validation_accuracy: 0.6136000156402588\n",
      "Epoch 37, CIFAR-10 Batch 3:  loss: 0.9318839907646179, validation_accuracy: 0.6011999845504761\n",
      "Epoch 37, CIFAR-10 Batch 4:  loss: 1.0428850650787354, validation_accuracy: 0.607200026512146\n",
      "Epoch 37, CIFAR-10 Batch 5:  loss: 0.9479328393936157, validation_accuracy: 0.6075999736785889\n",
      "Epoch 38, CIFAR-10 Batch 1:  loss: 1.0212846994400024, validation_accuracy: 0.6123999953269958\n",
      "Epoch 38, CIFAR-10 Batch 2:  loss: 0.9067800641059875, validation_accuracy: 0.6111999750137329\n",
      "Epoch 38, CIFAR-10 Batch 3:  loss: 0.960743248462677, validation_accuracy: 0.599399983882904\n",
      "Epoch 38, CIFAR-10 Batch 4:  loss: 1.0271804332733154, validation_accuracy: 0.6087999939918518\n",
      "Epoch 38, CIFAR-10 Batch 5:  loss: 0.9808448553085327, validation_accuracy: 0.605400025844574\n",
      "Epoch 39, CIFAR-10 Batch 1:  loss: 1.0352122783660889, validation_accuracy: 0.6028000116348267\n",
      "Epoch 39, CIFAR-10 Batch 2:  loss: 0.9179121255874634, validation_accuracy: 0.6078000068664551\n",
      "Epoch 39, CIFAR-10 Batch 3:  loss: 0.9677695035934448, validation_accuracy: 0.6068000197410583\n",
      "Epoch 39, CIFAR-10 Batch 4:  loss: 1.0046958923339844, validation_accuracy: 0.6115999817848206\n",
      "Epoch 39, CIFAR-10 Batch 5:  loss: 0.9490053057670593, validation_accuracy: 0.6074000000953674\n",
      "Epoch 40, CIFAR-10 Batch 1:  loss: 0.9977090954780579, validation_accuracy: 0.6114000082015991\n",
      "Epoch 40, CIFAR-10 Batch 2:  loss: 0.9202847480773926, validation_accuracy: 0.6122000217437744\n",
      "Epoch 40, CIFAR-10 Batch 3:  loss: 0.9819208979606628, validation_accuracy: 0.6154000163078308\n",
      "Epoch 40, CIFAR-10 Batch 4:  loss: 1.0624967813491821, validation_accuracy: 0.607200026512146\n",
      "Epoch 40, CIFAR-10 Batch 5:  loss: 0.9449996948242188, validation_accuracy: 0.6083999872207642\n",
      "Epoch 41, CIFAR-10 Batch 1:  loss: 1.0338971614837646, validation_accuracy: 0.6122000217437744\n",
      "Epoch 41, CIFAR-10 Batch 2:  loss: 0.9213541746139526, validation_accuracy: 0.6144000291824341\n",
      "Epoch 41, CIFAR-10 Batch 3:  loss: 0.9723922610282898, validation_accuracy: 0.603600025177002\n",
      "Epoch 41, CIFAR-10 Batch 4:  loss: 1.0028793811798096, validation_accuracy: 0.6151999831199646\n",
      "Epoch 41, CIFAR-10 Batch 5:  loss: 0.9424896240234375, validation_accuracy: 0.6003999710083008\n",
      "Epoch 42, CIFAR-10 Batch 1:  loss: 1.0123414993286133, validation_accuracy: 0.6144000291824341\n",
      "Epoch 42, CIFAR-10 Batch 2:  loss: 0.9328020811080933, validation_accuracy: 0.614799976348877\n",
      "Epoch 42, CIFAR-10 Batch 3:  loss: 0.9374294281005859, validation_accuracy: 0.6096000075340271\n",
      "Epoch 42, CIFAR-10 Batch 4:  loss: 1.0041946172714233, validation_accuracy: 0.6128000020980835\n",
      "Epoch 42, CIFAR-10 Batch 5:  loss: 0.9044979214668274, validation_accuracy: 0.6097999811172485\n",
      "Epoch 43, CIFAR-10 Batch 1:  loss: 0.9859634637832642, validation_accuracy: 0.6100000143051147\n",
      "Epoch 43, CIFAR-10 Batch 2:  loss: 0.8949033617973328, validation_accuracy: 0.6200000047683716\n",
      "Epoch 43, CIFAR-10 Batch 3:  loss: 0.9447883367538452, validation_accuracy: 0.6028000116348267\n",
      "Epoch 43, CIFAR-10 Batch 4:  loss: 1.0109174251556396, validation_accuracy: 0.614799976348877\n",
      "Epoch 43, CIFAR-10 Batch 5:  loss: 0.9512178301811218, validation_accuracy: 0.6065999865531921\n",
      "Epoch 44, CIFAR-10 Batch 1:  loss: 1.0133624076843262, validation_accuracy: 0.6126000285148621\n",
      "Epoch 44, CIFAR-10 Batch 2:  loss: 0.9186252355575562, validation_accuracy: 0.6169999837875366\n",
      "Epoch 44, CIFAR-10 Batch 3:  loss: 0.9224544763565063, validation_accuracy: 0.6126000285148621\n",
      "Epoch 44, CIFAR-10 Batch 4:  loss: 1.00199556350708, validation_accuracy: 0.6101999878883362\n",
      "Epoch 44, CIFAR-10 Batch 5:  loss: 0.9615767598152161, validation_accuracy: 0.6146000027656555\n",
      "Epoch 45, CIFAR-10 Batch 1:  loss: 0.9836141467094421, validation_accuracy: 0.6114000082015991\n",
      "Epoch 45, CIFAR-10 Batch 2:  loss: 0.9090906977653503, validation_accuracy: 0.6179999709129333\n",
      "Epoch 45, CIFAR-10 Batch 3:  loss: 0.9732465744018555, validation_accuracy: 0.6182000041007996\n",
      "Epoch 45, CIFAR-10 Batch 4:  loss: 0.9874907732009888, validation_accuracy: 0.6096000075340271\n",
      "Epoch 45, CIFAR-10 Batch 5:  loss: 0.914853572845459, validation_accuracy: 0.6018000245094299\n",
      "Epoch 46, CIFAR-10 Batch 1:  loss: 1.0174968242645264, validation_accuracy: 0.6155999898910522\n",
      "Epoch 46, CIFAR-10 Batch 2:  loss: 0.8891304135322571, validation_accuracy: 0.61080002784729\n",
      "Epoch 46, CIFAR-10 Batch 3:  loss: 0.9334670901298523, validation_accuracy: 0.607200026512146\n",
      "Epoch 46, CIFAR-10 Batch 4:  loss: 1.0079747438430786, validation_accuracy: 0.5971999764442444\n",
      "Epoch 46, CIFAR-10 Batch 5:  loss: 0.9557720422744751, validation_accuracy: 0.618399977684021\n",
      "Epoch 47, CIFAR-10 Batch 1:  loss: 0.9993633031845093, validation_accuracy: 0.6092000007629395\n",
      "Epoch 47, CIFAR-10 Batch 2:  loss: 0.8685806393623352, validation_accuracy: 0.6087999939918518\n",
      "Epoch 47, CIFAR-10 Batch 3:  loss: 0.9535344839096069, validation_accuracy: 0.6075999736785889\n",
      "Epoch 47, CIFAR-10 Batch 4:  loss: 1.0117193460464478, validation_accuracy: 0.6137999892234802\n",
      "Epoch 47, CIFAR-10 Batch 5:  loss: 0.9143568277359009, validation_accuracy: 0.6155999898910522\n",
      "Epoch 48, CIFAR-10 Batch 1:  loss: 0.9781731367111206, validation_accuracy: 0.6218000054359436\n",
      "Epoch 48, CIFAR-10 Batch 2:  loss: 0.8675336837768555, validation_accuracy: 0.6240000128746033\n",
      "Epoch 48, CIFAR-10 Batch 3:  loss: 0.9490081667900085, validation_accuracy: 0.6136000156402588\n",
      "Epoch 48, CIFAR-10 Batch 4:  loss: 0.9720223546028137, validation_accuracy: 0.6237999796867371\n",
      "Epoch 48, CIFAR-10 Batch 5:  loss: 0.8985196948051453, validation_accuracy: 0.6104000210762024\n",
      "Epoch 49, CIFAR-10 Batch 1:  loss: 1.0285565853118896, validation_accuracy: 0.6190000176429749\n",
      "Epoch 49, CIFAR-10 Batch 2:  loss: 0.9024531245231628, validation_accuracy: 0.6209999918937683\n",
      "Epoch 49, CIFAR-10 Batch 3:  loss: 0.9025198817253113, validation_accuracy: 0.6168000102043152\n",
      "Epoch 49, CIFAR-10 Batch 4:  loss: 0.9852282404899597, validation_accuracy: 0.6255999803543091\n",
      "Epoch 49, CIFAR-10 Batch 5:  loss: 0.9287688136100769, validation_accuracy: 0.6133999824523926\n",
      "Epoch 50, CIFAR-10 Batch 1:  loss: 1.0121161937713623, validation_accuracy: 0.6144000291824341\n",
      "Epoch 50, CIFAR-10 Batch 2:  loss: 0.8751698732376099, validation_accuracy: 0.6233999729156494\n",
      "Epoch 50, CIFAR-10 Batch 3:  loss: 0.9598516225814819, validation_accuracy: 0.6155999898910522\n",
      "Epoch 50, CIFAR-10 Batch 4:  loss: 0.9887563586235046, validation_accuracy: 0.616599977016449\n",
      "Epoch 50, CIFAR-10 Batch 5:  loss: 0.9411373138427734, validation_accuracy: 0.6111999750137329\n"
     ]
    }
   ],
   "source": [
    "\"\"\"\n",
    "DON'T MODIFY ANYTHING IN THIS CELL\n",
    "\"\"\"\n",
    "save_model_path = './image_classification'\n",
    "\n",
    "print('Training...')\n",
    "with tf.Session() as sess:\n",
    "    # Initializing the variables\n",
    "    sess.run(tf.global_variables_initializer())\n",
    "    \n",
    "    # Training cycle\n",
    "    for epoch in range(epochs):\n",
    "        # Loop over all batches\n",
    "        n_batches = 5\n",
    "        for batch_i in range(1, n_batches + 1):\n",
    "            for batch_features, batch_labels in helper.load_preprocess_training_batch(batch_i, batch_size):\n",
    "                train_neural_network(sess, optimizer, keep_probability, batch_features, batch_labels)\n",
    "            print('Epoch {:>2}, CIFAR-10 Batch {}:  '.format(epoch + 1, batch_i), end='')\n",
    "            print_stats(sess, batch_features, batch_labels, cost, accuracy)\n",
    "            \n",
    "    # Save Model\n",
    "    saver = tf.train.Saver()\n",
    "    save_path = saver.save(sess, save_model_path)"
   ]
  },
  {
   "cell_type": "markdown",
   "metadata": {},
   "source": [
    "# Checkpoint\n",
    "The model has been saved to disk.\n",
    "## Test Model\n",
    "Test your model against the test dataset.  This will be your final accuracy. You should have an accuracy greater than 50%. If you don't, keep tweaking the model architecture and parameters."
   ]
  },
  {
   "cell_type": "code",
   "execution_count": 18,
   "metadata": {
    "collapsed": false
   },
   "outputs": [
    {
     "name": "stdout",
     "output_type": "stream",
     "text": [
      "INFO:tensorflow:Restoring parameters from ./image_classification\n",
      "Testing Accuracy: 0.608682753164557\n",
      "\n"
     ]
    },
    {
     "data": {
      "image/png": "[encoded data removed]",
      "text/plain": [
       "<matplotlib.figure.Figure at 0x102ff5c50>"
      ]
     },
     "metadata": {
      "image/png": {
       "height": 319,
       "width": 355
      }
     },
     "output_type": "display_data"
    }
   ],
   "source": [
    "\"\"\"\n",
    "DON'T MODIFY ANYTHING IN THIS CELL\n",
    "\"\"\"\n",
    "%matplotlib inline\n",
    "%config InlineBackend.figure_format = 'retina'\n",
    "\n",
    "import tensorflow as tf\n",
    "import pickle\n",
    "import helper\n",
    "import random\n",
    "\n",
    "# Set batch size if not already set\n",
    "try:\n",
    "    if batch_size:\n",
    "        pass\n",
    "except NameError:\n",
    "    batch_size = 64\n",
    "\n",
    "save_model_path = './image_classification'\n",
    "n_samples = 4\n",
    "top_n_predictions = 3\n",
    "\n",
    "def test_model():\n",
    "    \"\"\"\n",
    "    Test the saved model against the test dataset\n",
    "    \"\"\"\n",
    "\n",
    "    test_features, test_labels = pickle.load(open('preprocess_training.p', mode='rb'))\n",
    "    loaded_graph = tf.Graph()\n",
    "\n",
    "    with tf.Session(graph=loaded_graph) as sess:\n",
    "        # Load model\n",
    "        loader = tf.train.import_meta_graph(save_model_path + '.meta')\n",
    "        loader.restore(sess, save_model_path)\n",
    "\n",
    "        # Get Tensors from loaded model\n",
    "        loaded_x = loaded_graph.get_tensor_by_name('x:0')\n",
    "        loaded_y = loaded_graph.get_tensor_by_name('y:0')\n",
    "        loaded_keep_prob = loaded_graph.get_tensor_by_name('keep_prob:0')\n",
    "        loaded_logits = loaded_graph.get_tensor_by_name('logits:0')\n",
    "        loaded_acc = loaded_graph.get_tensor_by_name('accuracy:0')\n",
    "        \n",
    "        # Get accuracy in batches for memory limitations\n",
    "        test_batch_acc_total = 0\n",
    "        test_batch_count = 0\n",
    "        \n",
    "        for train_feature_batch, train_label_batch in helper.batch_features_labels(test_features, test_labels, batch_size):\n",
    "            test_batch_acc_total += sess.run(\n",
    "                loaded_acc,\n",
    "                feed_dict={loaded_x: train_feature_batch, loaded_y: train_label_batch, loaded_keep_prob: 1.0})\n",
    "            test_batch_count += 1\n",
    "\n",
    "        print('Testing Accuracy: {}\\n'.format(test_batch_acc_total/test_batch_count))\n",
    "\n",
    "        # Print Random Samples\n",
    "        random_test_features, random_test_labels = tuple(zip(*random.sample(list(zip(test_features, test_labels)), n_samples)))\n",
    "        random_test_predictions = sess.run(\n",
    "            tf.nn.top_k(tf.nn.softmax(loaded_logits), top_n_predictions),\n",
    "            feed_dict={loaded_x: random_test_features, loaded_y: random_test_labels, loaded_keep_prob: 1.0})\n",
    "        helper.display_image_predictions(random_test_features, random_test_labels, random_test_predictions)\n",
    "\n",
    "\n",
    "test_model()"
   ]
  },
  {
   "cell_type": "markdown",
   "metadata": {},
   "source": [
    "## Why 50-80% Accuracy?\n",
    "You might be wondering why you can't get an accuracy any higher. First things first, 50% isn't bad for a simple CNN.  Pure guessing would get you 10% accuracy. However, you might notice people are getting scores [well above 80%](http://rodrigob.github.io/are_we_there_yet/build/classification_datasets_results.html#43494641522d3130).  That's because we haven't taught you all there is to know about neural networks. We still need to cover a few more techniques.\n",
    "## Submitting This Project\n",
    "When submitting this project, make sure to run all the cells before saving the notebook.  Save the notebook file as \"dlnd_image_classification.ipynb\" and save it as a HTML file under \"File\" -> \"Download as\".  Include the \"helper.py\" and \"problem_unittests.py\" files in your submission."
   ]
  },
  {
   "cell_type": "code",
   "execution_count": null,
   "metadata": {
    "collapsed": true
   },
   "outputs": [],
   "source": []
  }
 ],
 "metadata": {
  "kernelspec": {
   "display_name": "Python 3",
   "language": "python",
   "name": "python3"
  },
  "language_info": {
   "codemirror_mode": {
    "name": "ipython",
    "version": 3
   },
   "file_extension": ".py",
   "mimetype": "text/x-python",
   "name": "python",
   "nbconvert_exporter": "python",
   "pygments_lexer": "ipython3",
   "version": "3.6.0"
  }
 },
 "nbformat": 4,
 "nbformat_minor": 0
}
